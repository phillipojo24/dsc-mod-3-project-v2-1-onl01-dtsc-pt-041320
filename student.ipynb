{
 "cells": [
  {
   "cell_type": "markdown",
   "metadata": {},
   "source": [
    "## Final Project Submission\n",
    "\n",
    "Please fill out:\n",
    "* Student name: Phillip Ojo\n",
    "* Student pace: Part time\n",
    "* Scheduled project review date/time: \n",
    "* Instructor name: James Irving\n",
    "* Blog post URL:\n"
   ]
  },
  {
   "cell_type": "code",
   "execution_count": 2,
   "metadata": {},
   "outputs": [],
   "source": [
    "# Your code here - remember to use markdown cells for comments as well!\n",
    "import pandas as pd\n",
    "import numpy as np\n",
    "import matplotlib.pyplot as plt\n",
    "import seaborn as sns\n",
    "%matplotlib inline"
   ]
  },
  {
   "cell_type": "markdown",
   "metadata": {},
   "source": [
    "I will combine all the dataset into one large one since my target variable as indepent of specific car model."
   ]
  },
  {
   "cell_type": "code",
   "execution_count": 22,
   "metadata": {},
   "outputs": [],
   "source": [
    "df1 = pd.read_csv('opel_corsa_01.csv', delimiter= ';')\n",
    "df2 = pd.read_csv('opel_corsa_02.csv', delimiter= ';')\n",
    "df3 = pd.read_csv('peugeot_207_01.csv', delimiter= ';')\n",
    "df4 = pd.read_csv('peugeot_207_02.csv', delimiter= ';')"
   ]
  },
  {
   "cell_type": "code",
   "execution_count": 23,
   "metadata": {},
   "outputs": [],
   "source": [
    "all_dfs = [df1, df2, df3, df4]\n",
    "car_data = pd.concat(all_dfs)"
   ]
  },
  {
   "cell_type": "markdown",
   "metadata": {},
   "source": [
    "# EDA"
   ]
  },
  {
   "cell_type": "code",
   "execution_count": 32,
   "metadata": {},
   "outputs": [
    {
     "output_type": "execute_result",
     "data": {
      "text/plain": "     AltitudeVariation VehicleSpeedInstantaneous VehicleSpeedAverage  \\\n0                  NaN                         0                 NaN   \n1                  NaN                         0                 NaN   \n2                  NaN                       NaN                 NaN   \n3                  NaN                       NaN                 NaN   \n4                  NaN                         0                 NaN   \n...                ...                       ...                 ...   \n4618                 1               28,79999924         28,55999908   \n4619       1,699996948               30,59999847          28,5299991   \n4620       1,800003052               29,69999886         28,49999908   \n4621       2,100006104               29,69999886         28,40999908   \n4622               1,5               33,29999924         28,34999911   \n\n     VehicleSpeedVariance VehicleSpeedVariation LongitudinalAcceleration  \\\n0                     NaN                   NaN                   0,0156   \n1                     NaN                   NaN                   0,0156   \n2                     NaN                   NaN                   0,0273   \n3                     NaN                   NaN                   0,0391   \n4                     NaN                   NaN                   0,0469   \n...                   ...                   ...                      ...   \n4618          57,19057079           3,600000381                  -0,0292   \n4619          57,01026584           1,799999237                  -0,0304   \n4620           56,8830454          -0,899999619                  -0,1684   \n4621          56,16090993                     0                  -0,0644   \n4622          55,34084256           3,600000381                  -0,1817   \n\n       EngineLoad  EngineCoolantTemperature  ManifoldAbsolutePressure  \\\n0     25,49019623                      64.0                     100.0   \n1     25,49019623                      64.0                     100.0   \n2     25,88235283                      64.0                     100.0   \n3     25,88235283                      64.0                     100.0   \n4     25,88235283                      65.0                     100.0   \n...           ...                       ...                       ...   \n4618  25,88235283                      81.0                     115.0   \n4619  11,76470566                      81.0                     106.0   \n4620  98,03921509                      81.0                     106.0   \n4621  79,60784149                      80.0                     112.0   \n4622           80                      80.0                     113.0   \n\n     EngineRPM  MassAirFlow  IntakeAirTemperature VerticalAcceleration  \\\n0          801  7,849999905                  22.0              -0,0078   \n1          803  7,889999866                  22.0              -0,0156   \n2          800  7,769999981                  22.0              -0,0273   \n3          798  7,769999981                  22.0              -0,0273   \n4          798  7,940000057                  22.0              -0,0312   \n...        ...          ...                   ...                  ...   \n4618    1755,5  20,46999931                  25.0              -0,1661   \n4619     736,5  17,73999977                  25.0              -0,1987   \n4620      1254  9,520000458                  24.0              -0,1156   \n4621      1254  14,90999985                  23.0               -0,076   \n4622    1363,5  15,32999992                  23.0              -0,0605   \n\n     FuelConsumptionAverage      roadSurface                 traffic  \\\n0                       NaN  SmoothCondition  LowCongestionCondition   \n1                       NaN  SmoothCondition  LowCongestionCondition   \n2                       NaN  SmoothCondition  LowCongestionCondition   \n3                       NaN  SmoothCondition  LowCongestionCondition   \n4                       NaN  SmoothCondition  LowCongestionCondition   \n...                     ...              ...                     ...   \n4618            14,57800293  SmoothCondition  LowCongestionCondition   \n4619            14,58564186  SmoothCondition  LowCongestionCondition   \n4620            14,54729366  SmoothCondition  LowCongestionCondition   \n4621            14,54682827  SmoothCondition  LowCongestionCondition   \n4622            14,55406761  SmoothCondition  LowCongestionCondition   \n\n       drivingStyle  \n0     EvenPaceStyle  \n1     EvenPaceStyle  \n2     EvenPaceStyle  \n3     EvenPaceStyle  \n4     EvenPaceStyle  \n...             ...  \n4618  EvenPaceStyle  \n4619  EvenPaceStyle  \n4620  EvenPaceStyle  \n4621  EvenPaceStyle  \n4622  EvenPaceStyle  \n\n[24957 rows x 17 columns]",
      "text/html": "<div>\n<style scoped>\n    .dataframe tbody tr th:only-of-type {\n        vertical-align: middle;\n    }\n\n    .dataframe tbody tr th {\n        vertical-align: top;\n    }\n\n    .dataframe thead th {\n        text-align: right;\n    }\n</style>\n<table border=\"1\" class=\"dataframe\">\n  <thead>\n    <tr style=\"text-align: right;\">\n      <th></th>\n      <th>AltitudeVariation</th>\n      <th>VehicleSpeedInstantaneous</th>\n      <th>VehicleSpeedAverage</th>\n      <th>VehicleSpeedVariance</th>\n      <th>VehicleSpeedVariation</th>\n      <th>LongitudinalAcceleration</th>\n      <th>EngineLoad</th>\n      <th>EngineCoolantTemperature</th>\n      <th>ManifoldAbsolutePressure</th>\n      <th>EngineRPM</th>\n      <th>MassAirFlow</th>\n      <th>IntakeAirTemperature</th>\n      <th>VerticalAcceleration</th>\n      <th>FuelConsumptionAverage</th>\n      <th>roadSurface</th>\n      <th>traffic</th>\n      <th>drivingStyle</th>\n    </tr>\n  </thead>\n  <tbody>\n    <tr>\n      <th>0</th>\n      <td>NaN</td>\n      <td>0</td>\n      <td>NaN</td>\n      <td>NaN</td>\n      <td>NaN</td>\n      <td>0,0156</td>\n      <td>25,49019623</td>\n      <td>64.0</td>\n      <td>100.0</td>\n      <td>801</td>\n      <td>7,849999905</td>\n      <td>22.0</td>\n      <td>-0,0078</td>\n      <td>NaN</td>\n      <td>SmoothCondition</td>\n      <td>LowCongestionCondition</td>\n      <td>EvenPaceStyle</td>\n    </tr>\n    <tr>\n      <th>1</th>\n      <td>NaN</td>\n      <td>0</td>\n      <td>NaN</td>\n      <td>NaN</td>\n      <td>NaN</td>\n      <td>0,0156</td>\n      <td>25,49019623</td>\n      <td>64.0</td>\n      <td>100.0</td>\n      <td>803</td>\n      <td>7,889999866</td>\n      <td>22.0</td>\n      <td>-0,0156</td>\n      <td>NaN</td>\n      <td>SmoothCondition</td>\n      <td>LowCongestionCondition</td>\n      <td>EvenPaceStyle</td>\n    </tr>\n    <tr>\n      <th>2</th>\n      <td>NaN</td>\n      <td>NaN</td>\n      <td>NaN</td>\n      <td>NaN</td>\n      <td>NaN</td>\n      <td>0,0273</td>\n      <td>25,88235283</td>\n      <td>64.0</td>\n      <td>100.0</td>\n      <td>800</td>\n      <td>7,769999981</td>\n      <td>22.0</td>\n      <td>-0,0273</td>\n      <td>NaN</td>\n      <td>SmoothCondition</td>\n      <td>LowCongestionCondition</td>\n      <td>EvenPaceStyle</td>\n    </tr>\n    <tr>\n      <th>3</th>\n      <td>NaN</td>\n      <td>NaN</td>\n      <td>NaN</td>\n      <td>NaN</td>\n      <td>NaN</td>\n      <td>0,0391</td>\n      <td>25,88235283</td>\n      <td>64.0</td>\n      <td>100.0</td>\n      <td>798</td>\n      <td>7,769999981</td>\n      <td>22.0</td>\n      <td>-0,0273</td>\n      <td>NaN</td>\n      <td>SmoothCondition</td>\n      <td>LowCongestionCondition</td>\n      <td>EvenPaceStyle</td>\n    </tr>\n    <tr>\n      <th>4</th>\n      <td>NaN</td>\n      <td>0</td>\n      <td>NaN</td>\n      <td>NaN</td>\n      <td>NaN</td>\n      <td>0,0469</td>\n      <td>25,88235283</td>\n      <td>65.0</td>\n      <td>100.0</td>\n      <td>798</td>\n      <td>7,940000057</td>\n      <td>22.0</td>\n      <td>-0,0312</td>\n      <td>NaN</td>\n      <td>SmoothCondition</td>\n      <td>LowCongestionCondition</td>\n      <td>EvenPaceStyle</td>\n    </tr>\n    <tr>\n      <th>...</th>\n      <td>...</td>\n      <td>...</td>\n      <td>...</td>\n      <td>...</td>\n      <td>...</td>\n      <td>...</td>\n      <td>...</td>\n      <td>...</td>\n      <td>...</td>\n      <td>...</td>\n      <td>...</td>\n      <td>...</td>\n      <td>...</td>\n      <td>...</td>\n      <td>...</td>\n      <td>...</td>\n      <td>...</td>\n    </tr>\n    <tr>\n      <th>4618</th>\n      <td>1</td>\n      <td>28,79999924</td>\n      <td>28,55999908</td>\n      <td>57,19057079</td>\n      <td>3,600000381</td>\n      <td>-0,0292</td>\n      <td>25,88235283</td>\n      <td>81.0</td>\n      <td>115.0</td>\n      <td>1755,5</td>\n      <td>20,46999931</td>\n      <td>25.0</td>\n      <td>-0,1661</td>\n      <td>14,57800293</td>\n      <td>SmoothCondition</td>\n      <td>LowCongestionCondition</td>\n      <td>EvenPaceStyle</td>\n    </tr>\n    <tr>\n      <th>4619</th>\n      <td>1,699996948</td>\n      <td>30,59999847</td>\n      <td>28,5299991</td>\n      <td>57,01026584</td>\n      <td>1,799999237</td>\n      <td>-0,0304</td>\n      <td>11,76470566</td>\n      <td>81.0</td>\n      <td>106.0</td>\n      <td>736,5</td>\n      <td>17,73999977</td>\n      <td>25.0</td>\n      <td>-0,1987</td>\n      <td>14,58564186</td>\n      <td>SmoothCondition</td>\n      <td>LowCongestionCondition</td>\n      <td>EvenPaceStyle</td>\n    </tr>\n    <tr>\n      <th>4620</th>\n      <td>1,800003052</td>\n      <td>29,69999886</td>\n      <td>28,49999908</td>\n      <td>56,8830454</td>\n      <td>-0,899999619</td>\n      <td>-0,1684</td>\n      <td>98,03921509</td>\n      <td>81.0</td>\n      <td>106.0</td>\n      <td>1254</td>\n      <td>9,520000458</td>\n      <td>24.0</td>\n      <td>-0,1156</td>\n      <td>14,54729366</td>\n      <td>SmoothCondition</td>\n      <td>LowCongestionCondition</td>\n      <td>EvenPaceStyle</td>\n    </tr>\n    <tr>\n      <th>4621</th>\n      <td>2,100006104</td>\n      <td>29,69999886</td>\n      <td>28,40999908</td>\n      <td>56,16090993</td>\n      <td>0</td>\n      <td>-0,0644</td>\n      <td>79,60784149</td>\n      <td>80.0</td>\n      <td>112.0</td>\n      <td>1254</td>\n      <td>14,90999985</td>\n      <td>23.0</td>\n      <td>-0,076</td>\n      <td>14,54682827</td>\n      <td>SmoothCondition</td>\n      <td>LowCongestionCondition</td>\n      <td>EvenPaceStyle</td>\n    </tr>\n    <tr>\n      <th>4622</th>\n      <td>1,5</td>\n      <td>33,29999924</td>\n      <td>28,34999911</td>\n      <td>55,34084256</td>\n      <td>3,600000381</td>\n      <td>-0,1817</td>\n      <td>80</td>\n      <td>80.0</td>\n      <td>113.0</td>\n      <td>1363,5</td>\n      <td>15,32999992</td>\n      <td>23.0</td>\n      <td>-0,0605</td>\n      <td>14,55406761</td>\n      <td>SmoothCondition</td>\n      <td>LowCongestionCondition</td>\n      <td>EvenPaceStyle</td>\n    </tr>\n  </tbody>\n</table>\n<p>24957 rows × 17 columns</p>\n</div>"
     },
     "metadata": {},
     "execution_count": 32
    }
   ],
   "source": [
    "car_data"
   ]
  },
  {
   "cell_type": "code",
   "execution_count": 33,
   "metadata": {},
   "outputs": [
    {
     "output_type": "stream",
     "name": "stdout",
     "text": "<class 'pandas.core.frame.DataFrame'>\nInt64Index: 24957 entries, 0 to 4622\nData columns (total 17 columns):\n #   Column                     Non-Null Count  Dtype  \n---  ------                     --------------  -----  \n 0   AltitudeVariation          24777 non-null  object \n 1   VehicleSpeedInstantaneous  24913 non-null  object \n 2   VehicleSpeedAverage        23775 non-null  object \n 3   VehicleSpeedVariance       23775 non-null  object \n 4   VehicleSpeedVariation      24769 non-null  object \n 5   LongitudinalAcceleration   24957 non-null  object \n 6   EngineLoad                 24952 non-null  object \n 7   EngineCoolantTemperature   24952 non-null  float64\n 8   ManifoldAbsolutePressure   24952 non-null  float64\n 9   EngineRPM                  24952 non-null  object \n 10  MassAirFlow                24952 non-null  object \n 11  IntakeAirTemperature       24952 non-null  float64\n 12  VerticalAcceleration       24957 non-null  object \n 13  FuelConsumptionAverage     24671 non-null  object \n 14  roadSurface                24957 non-null  object \n 15  traffic                    24957 non-null  object \n 16  drivingStyle               24957 non-null  object \ndtypes: float64(3), object(14)\nmemory usage: 4.1+ MB\n"
    }
   ],
   "source": [
    "car_data.info()"
   ]
  },
  {
   "cell_type": "code",
   "execution_count": 34,
   "metadata": {},
   "outputs": [
    {
     "output_type": "execute_result",
     "data": {
      "text/plain": "LowCongestionCondition       18769\nNormalCongestionCondition     3171\nHighCongestionCondition       3017\nName: traffic, dtype: int64"
     },
     "metadata": {},
     "execution_count": 34
    }
   ],
   "source": [
    "car_data['traffic'].value_counts()"
   ]
  },
  {
   "cell_type": "code",
   "execution_count": 35,
   "metadata": {},
   "outputs": [
    {
     "output_type": "execute_result",
     "data": {
      "text/plain": "SmoothCondition         15242\nUnevenCondition          6466\nFullOfHolesCondition     3249\nName: roadSurface, dtype: int64"
     },
     "metadata": {},
     "execution_count": 35
    }
   ],
   "source": [
    "car_data['roadSurface'].value_counts()"
   ]
  },
  {
   "cell_type": "code",
   "execution_count": 36,
   "metadata": {},
   "outputs": [
    {
     "output_type": "execute_result",
     "data": {
      "text/plain": "EvenPaceStyle      22089\nAggressiveStyle     2868\nName: drivingStyle, dtype: int64"
     },
     "metadata": {},
     "execution_count": 36
    }
   ],
   "source": [
    "car_data['drivingStyle'].value_counts()"
   ]
  },
  {
   "cell_type": "code",
   "execution_count": null,
   "metadata": {},
   "outputs": [],
   "source": []
  }
 ],
 "metadata": {
  "kernelspec": {
   "display_name": "Python 3.7.6 64-bit ('base': conda)",
   "language": "python",
   "name": "python37664bitbaseconda12de692f8155481782d2c480a5bd0dec"
  },
  "language_info": {
   "codemirror_mode": {
    "name": "ipython",
    "version": 3
   },
   "file_extension": ".py",
   "mimetype": "text/x-python",
   "name": "python",
   "nbconvert_exporter": "python",
   "pygments_lexer": "ipython3",
   "version": "3.7.6-final"
  }
 },
 "nbformat": 4,
 "nbformat_minor": 2
}