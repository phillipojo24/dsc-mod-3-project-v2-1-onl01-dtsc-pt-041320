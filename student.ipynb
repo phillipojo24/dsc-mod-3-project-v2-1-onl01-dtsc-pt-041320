{
 "cells": [
  {
   "cell_type": "markdown",
   "metadata": {},
   "source": [
    "## Final Project Submission\n",
    "\n",
    "Please fill out:\n",
    "* Student name: Phillip Ojo\n",
    "* Student pace: Part time\n",
    "* Scheduled project review date/time: \n",
    "* Instructor name: James Irving\n",
    "* Blog post URL:\n"
   ]
  },
  {
   "cell_type": "code",
   "execution_count": 2,
   "metadata": {
    "ExecuteTime": {
     "end_time": "2020-10-03T18:35:02.460207Z",
     "start_time": "2020-10-03T18:34:55.402882Z"
    }
   },
   "outputs": [],
   "source": [
    "# Your code here - remember to use markdown cells for comments as well!\n",
    "import pandas as pd\n",
    "import numpy as np\n",
    "import matplotlib.pyplot as plt\n",
    "import seaborn as sns\n",
    "%matplotlib inline"
   ]
  },
  {
   "cell_type": "markdown",
   "metadata": {},
   "source": [
    "I will combine all the dataset into one large one since my target variable as indepent of specific car model."
   ]
  },
  {
   "cell_type": "code",
   "execution_count": 3,
   "metadata": {
    "ExecuteTime": {
     "end_time": "2020-10-03T18:35:03.268717Z",
     "start_time": "2020-10-03T18:35:02.478327Z"
    }
   },
   "outputs": [],
   "source": [
    "df1 = pd.read_csv('opel_corsa_01.csv', delimiter= ';')\n",
    "df2 = pd.read_csv('opel_corsa_02.csv', delimiter= ';')\n",
    "df3 = pd.read_csv('peugeot_207_01.csv', delimiter= ';')\n",
    "df4 = pd.read_csv('peugeot_207_02.csv', delimiter= ';')"
   ]
  },
  {
   "cell_type": "code",
   "execution_count": 4,
   "metadata": {
    "ExecuteTime": {
     "end_time": "2020-10-03T18:35:03.440246Z",
     "start_time": "2020-10-03T18:35:03.358749Z"
    }
   },
   "outputs": [],
   "source": [
    "all_dfs = [df1, df2, df3, df4]\n",
    "car_data = pd.concat(all_dfs)"
   ]
  },
  {
   "cell_type": "markdown",
   "metadata": {},
   "source": [
    "# Data"
   ]
  },
  {
   "cell_type": "code",
   "execution_count": 5,
   "metadata": {
    "ExecuteTime": {
     "end_time": "2020-10-03T18:35:03.728225Z",
     "start_time": "2020-10-03T18:35:03.491210Z"
    }
   },
   "outputs": [
    {
     "data": {
      "text/html": [
       "<div>\n",
       "<style scoped>\n",
       "    .dataframe tbody tr th:only-of-type {\n",
       "        vertical-align: middle;\n",
       "    }\n",
       "\n",
       "    .dataframe tbody tr th {\n",
       "        vertical-align: top;\n",
       "    }\n",
       "\n",
       "    .dataframe thead th {\n",
       "        text-align: right;\n",
       "    }\n",
       "</style>\n",
       "<table border=\"1\" class=\"dataframe\">\n",
       "  <thead>\n",
       "    <tr style=\"text-align: right;\">\n",
       "      <th></th>\n",
       "      <th>AltitudeVariation</th>\n",
       "      <th>VehicleSpeedInstantaneous</th>\n",
       "      <th>VehicleSpeedAverage</th>\n",
       "      <th>VehicleSpeedVariance</th>\n",
       "      <th>VehicleSpeedVariation</th>\n",
       "      <th>LongitudinalAcceleration</th>\n",
       "      <th>EngineLoad</th>\n",
       "      <th>EngineCoolantTemperature</th>\n",
       "      <th>ManifoldAbsolutePressure</th>\n",
       "      <th>EngineRPM</th>\n",
       "      <th>MassAirFlow</th>\n",
       "      <th>IntakeAirTemperature</th>\n",
       "      <th>VerticalAcceleration</th>\n",
       "      <th>FuelConsumptionAverage</th>\n",
       "      <th>roadSurface</th>\n",
       "      <th>traffic</th>\n",
       "      <th>drivingStyle</th>\n",
       "    </tr>\n",
       "  </thead>\n",
       "  <tbody>\n",
       "    <tr>\n",
       "      <th>0</th>\n",
       "      <td>NaN</td>\n",
       "      <td>0</td>\n",
       "      <td>NaN</td>\n",
       "      <td>NaN</td>\n",
       "      <td>NaN</td>\n",
       "      <td>0,0156</td>\n",
       "      <td>25,49019623</td>\n",
       "      <td>64.0</td>\n",
       "      <td>100.0</td>\n",
       "      <td>801</td>\n",
       "      <td>7,849999905</td>\n",
       "      <td>22.0</td>\n",
       "      <td>-0,0078</td>\n",
       "      <td>NaN</td>\n",
       "      <td>SmoothCondition</td>\n",
       "      <td>LowCongestionCondition</td>\n",
       "      <td>EvenPaceStyle</td>\n",
       "    </tr>\n",
       "    <tr>\n",
       "      <th>1</th>\n",
       "      <td>NaN</td>\n",
       "      <td>0</td>\n",
       "      <td>NaN</td>\n",
       "      <td>NaN</td>\n",
       "      <td>NaN</td>\n",
       "      <td>0,0156</td>\n",
       "      <td>25,49019623</td>\n",
       "      <td>64.0</td>\n",
       "      <td>100.0</td>\n",
       "      <td>803</td>\n",
       "      <td>7,889999866</td>\n",
       "      <td>22.0</td>\n",
       "      <td>-0,0156</td>\n",
       "      <td>NaN</td>\n",
       "      <td>SmoothCondition</td>\n",
       "      <td>LowCongestionCondition</td>\n",
       "      <td>EvenPaceStyle</td>\n",
       "    </tr>\n",
       "    <tr>\n",
       "      <th>2</th>\n",
       "      <td>NaN</td>\n",
       "      <td>NaN</td>\n",
       "      <td>NaN</td>\n",
       "      <td>NaN</td>\n",
       "      <td>NaN</td>\n",
       "      <td>0,0273</td>\n",
       "      <td>25,88235283</td>\n",
       "      <td>64.0</td>\n",
       "      <td>100.0</td>\n",
       "      <td>800</td>\n",
       "      <td>7,769999981</td>\n",
       "      <td>22.0</td>\n",
       "      <td>-0,0273</td>\n",
       "      <td>NaN</td>\n",
       "      <td>SmoothCondition</td>\n",
       "      <td>LowCongestionCondition</td>\n",
       "      <td>EvenPaceStyle</td>\n",
       "    </tr>\n",
       "    <tr>\n",
       "      <th>3</th>\n",
       "      <td>NaN</td>\n",
       "      <td>NaN</td>\n",
       "      <td>NaN</td>\n",
       "      <td>NaN</td>\n",
       "      <td>NaN</td>\n",
       "      <td>0,0391</td>\n",
       "      <td>25,88235283</td>\n",
       "      <td>64.0</td>\n",
       "      <td>100.0</td>\n",
       "      <td>798</td>\n",
       "      <td>7,769999981</td>\n",
       "      <td>22.0</td>\n",
       "      <td>-0,0273</td>\n",
       "      <td>NaN</td>\n",
       "      <td>SmoothCondition</td>\n",
       "      <td>LowCongestionCondition</td>\n",
       "      <td>EvenPaceStyle</td>\n",
       "    </tr>\n",
       "    <tr>\n",
       "      <th>4</th>\n",
       "      <td>NaN</td>\n",
       "      <td>0</td>\n",
       "      <td>NaN</td>\n",
       "      <td>NaN</td>\n",
       "      <td>NaN</td>\n",
       "      <td>0,0469</td>\n",
       "      <td>25,88235283</td>\n",
       "      <td>65.0</td>\n",
       "      <td>100.0</td>\n",
       "      <td>798</td>\n",
       "      <td>7,940000057</td>\n",
       "      <td>22.0</td>\n",
       "      <td>-0,0312</td>\n",
       "      <td>NaN</td>\n",
       "      <td>SmoothCondition</td>\n",
       "      <td>LowCongestionCondition</td>\n",
       "      <td>EvenPaceStyle</td>\n",
       "    </tr>\n",
       "    <tr>\n",
       "      <th>...</th>\n",
       "      <td>...</td>\n",
       "      <td>...</td>\n",
       "      <td>...</td>\n",
       "      <td>...</td>\n",
       "      <td>...</td>\n",
       "      <td>...</td>\n",
       "      <td>...</td>\n",
       "      <td>...</td>\n",
       "      <td>...</td>\n",
       "      <td>...</td>\n",
       "      <td>...</td>\n",
       "      <td>...</td>\n",
       "      <td>...</td>\n",
       "      <td>...</td>\n",
       "      <td>...</td>\n",
       "      <td>...</td>\n",
       "      <td>...</td>\n",
       "    </tr>\n",
       "    <tr>\n",
       "      <th>4618</th>\n",
       "      <td>1</td>\n",
       "      <td>28,79999924</td>\n",
       "      <td>28,55999908</td>\n",
       "      <td>57,19057079</td>\n",
       "      <td>3,600000381</td>\n",
       "      <td>-0,0292</td>\n",
       "      <td>25,88235283</td>\n",
       "      <td>81.0</td>\n",
       "      <td>115.0</td>\n",
       "      <td>1755,5</td>\n",
       "      <td>20,46999931</td>\n",
       "      <td>25.0</td>\n",
       "      <td>-0,1661</td>\n",
       "      <td>14,57800293</td>\n",
       "      <td>SmoothCondition</td>\n",
       "      <td>LowCongestionCondition</td>\n",
       "      <td>EvenPaceStyle</td>\n",
       "    </tr>\n",
       "    <tr>\n",
       "      <th>4619</th>\n",
       "      <td>1,699996948</td>\n",
       "      <td>30,59999847</td>\n",
       "      <td>28,5299991</td>\n",
       "      <td>57,01026584</td>\n",
       "      <td>1,799999237</td>\n",
       "      <td>-0,0304</td>\n",
       "      <td>11,76470566</td>\n",
       "      <td>81.0</td>\n",
       "      <td>106.0</td>\n",
       "      <td>736,5</td>\n",
       "      <td>17,73999977</td>\n",
       "      <td>25.0</td>\n",
       "      <td>-0,1987</td>\n",
       "      <td>14,58564186</td>\n",
       "      <td>SmoothCondition</td>\n",
       "      <td>LowCongestionCondition</td>\n",
       "      <td>EvenPaceStyle</td>\n",
       "    </tr>\n",
       "    <tr>\n",
       "      <th>4620</th>\n",
       "      <td>1,800003052</td>\n",
       "      <td>29,69999886</td>\n",
       "      <td>28,49999908</td>\n",
       "      <td>56,8830454</td>\n",
       "      <td>-0,899999619</td>\n",
       "      <td>-0,1684</td>\n",
       "      <td>98,03921509</td>\n",
       "      <td>81.0</td>\n",
       "      <td>106.0</td>\n",
       "      <td>1254</td>\n",
       "      <td>9,520000458</td>\n",
       "      <td>24.0</td>\n",
       "      <td>-0,1156</td>\n",
       "      <td>14,54729366</td>\n",
       "      <td>SmoothCondition</td>\n",
       "      <td>LowCongestionCondition</td>\n",
       "      <td>EvenPaceStyle</td>\n",
       "    </tr>\n",
       "    <tr>\n",
       "      <th>4621</th>\n",
       "      <td>2,100006104</td>\n",
       "      <td>29,69999886</td>\n",
       "      <td>28,40999908</td>\n",
       "      <td>56,16090993</td>\n",
       "      <td>0</td>\n",
       "      <td>-0,0644</td>\n",
       "      <td>79,60784149</td>\n",
       "      <td>80.0</td>\n",
       "      <td>112.0</td>\n",
       "      <td>1254</td>\n",
       "      <td>14,90999985</td>\n",
       "      <td>23.0</td>\n",
       "      <td>-0,076</td>\n",
       "      <td>14,54682827</td>\n",
       "      <td>SmoothCondition</td>\n",
       "      <td>LowCongestionCondition</td>\n",
       "      <td>EvenPaceStyle</td>\n",
       "    </tr>\n",
       "    <tr>\n",
       "      <th>4622</th>\n",
       "      <td>1,5</td>\n",
       "      <td>33,29999924</td>\n",
       "      <td>28,34999911</td>\n",
       "      <td>55,34084256</td>\n",
       "      <td>3,600000381</td>\n",
       "      <td>-0,1817</td>\n",
       "      <td>80</td>\n",
       "      <td>80.0</td>\n",
       "      <td>113.0</td>\n",
       "      <td>1363,5</td>\n",
       "      <td>15,32999992</td>\n",
       "      <td>23.0</td>\n",
       "      <td>-0,0605</td>\n",
       "      <td>14,55406761</td>\n",
       "      <td>SmoothCondition</td>\n",
       "      <td>LowCongestionCondition</td>\n",
       "      <td>EvenPaceStyle</td>\n",
       "    </tr>\n",
       "  </tbody>\n",
       "</table>\n",
       "<p>24957 rows × 17 columns</p>\n",
       "</div>"
      ],
      "text/plain": [
       "     AltitudeVariation VehicleSpeedInstantaneous VehicleSpeedAverage  \\\n",
       "0                  NaN                         0                 NaN   \n",
       "1                  NaN                         0                 NaN   \n",
       "2                  NaN                       NaN                 NaN   \n",
       "3                  NaN                       NaN                 NaN   \n",
       "4                  NaN                         0                 NaN   \n",
       "...                ...                       ...                 ...   \n",
       "4618                 1               28,79999924         28,55999908   \n",
       "4619       1,699996948               30,59999847          28,5299991   \n",
       "4620       1,800003052               29,69999886         28,49999908   \n",
       "4621       2,100006104               29,69999886         28,40999908   \n",
       "4622               1,5               33,29999924         28,34999911   \n",
       "\n",
       "     VehicleSpeedVariance VehicleSpeedVariation LongitudinalAcceleration  \\\n",
       "0                     NaN                   NaN                   0,0156   \n",
       "1                     NaN                   NaN                   0,0156   \n",
       "2                     NaN                   NaN                   0,0273   \n",
       "3                     NaN                   NaN                   0,0391   \n",
       "4                     NaN                   NaN                   0,0469   \n",
       "...                   ...                   ...                      ...   \n",
       "4618          57,19057079           3,600000381                  -0,0292   \n",
       "4619          57,01026584           1,799999237                  -0,0304   \n",
       "4620           56,8830454          -0,899999619                  -0,1684   \n",
       "4621          56,16090993                     0                  -0,0644   \n",
       "4622          55,34084256           3,600000381                  -0,1817   \n",
       "\n",
       "       EngineLoad  EngineCoolantTemperature  ManifoldAbsolutePressure  \\\n",
       "0     25,49019623                      64.0                     100.0   \n",
       "1     25,49019623                      64.0                     100.0   \n",
       "2     25,88235283                      64.0                     100.0   \n",
       "3     25,88235283                      64.0                     100.0   \n",
       "4     25,88235283                      65.0                     100.0   \n",
       "...           ...                       ...                       ...   \n",
       "4618  25,88235283                      81.0                     115.0   \n",
       "4619  11,76470566                      81.0                     106.0   \n",
       "4620  98,03921509                      81.0                     106.0   \n",
       "4621  79,60784149                      80.0                     112.0   \n",
       "4622           80                      80.0                     113.0   \n",
       "\n",
       "     EngineRPM  MassAirFlow  IntakeAirTemperature VerticalAcceleration  \\\n",
       "0          801  7,849999905                  22.0              -0,0078   \n",
       "1          803  7,889999866                  22.0              -0,0156   \n",
       "2          800  7,769999981                  22.0              -0,0273   \n",
       "3          798  7,769999981                  22.0              -0,0273   \n",
       "4          798  7,940000057                  22.0              -0,0312   \n",
       "...        ...          ...                   ...                  ...   \n",
       "4618    1755,5  20,46999931                  25.0              -0,1661   \n",
       "4619     736,5  17,73999977                  25.0              -0,1987   \n",
       "4620      1254  9,520000458                  24.0              -0,1156   \n",
       "4621      1254  14,90999985                  23.0               -0,076   \n",
       "4622    1363,5  15,32999992                  23.0              -0,0605   \n",
       "\n",
       "     FuelConsumptionAverage      roadSurface                 traffic  \\\n",
       "0                       NaN  SmoothCondition  LowCongestionCondition   \n",
       "1                       NaN  SmoothCondition  LowCongestionCondition   \n",
       "2                       NaN  SmoothCondition  LowCongestionCondition   \n",
       "3                       NaN  SmoothCondition  LowCongestionCondition   \n",
       "4                       NaN  SmoothCondition  LowCongestionCondition   \n",
       "...                     ...              ...                     ...   \n",
       "4618            14,57800293  SmoothCondition  LowCongestionCondition   \n",
       "4619            14,58564186  SmoothCondition  LowCongestionCondition   \n",
       "4620            14,54729366  SmoothCondition  LowCongestionCondition   \n",
       "4621            14,54682827  SmoothCondition  LowCongestionCondition   \n",
       "4622            14,55406761  SmoothCondition  LowCongestionCondition   \n",
       "\n",
       "       drivingStyle  \n",
       "0     EvenPaceStyle  \n",
       "1     EvenPaceStyle  \n",
       "2     EvenPaceStyle  \n",
       "3     EvenPaceStyle  \n",
       "4     EvenPaceStyle  \n",
       "...             ...  \n",
       "4618  EvenPaceStyle  \n",
       "4619  EvenPaceStyle  \n",
       "4620  EvenPaceStyle  \n",
       "4621  EvenPaceStyle  \n",
       "4622  EvenPaceStyle  \n",
       "\n",
       "[24957 rows x 17 columns]"
      ]
     },
     "execution_count": 5,
     "metadata": {},
     "output_type": "execute_result"
    }
   ],
   "source": [
    "car_data"
   ]
  },
  {
   "cell_type": "code",
   "execution_count": 6,
   "metadata": {
    "ExecuteTime": {
     "end_time": "2020-10-03T18:35:03.984822Z",
     "start_time": "2020-10-03T18:35:03.766252Z"
    }
   },
   "outputs": [
    {
     "name": "stdout",
     "output_type": "stream",
     "text": [
      "<class 'pandas.core.frame.DataFrame'>\n",
      "Int64Index: 24957 entries, 0 to 4622\n",
      "Data columns (total 17 columns):\n",
      " #   Column                     Non-Null Count  Dtype  \n",
      "---  ------                     --------------  -----  \n",
      " 0   AltitudeVariation          24777 non-null  object \n",
      " 1   VehicleSpeedInstantaneous  24913 non-null  object \n",
      " 2   VehicleSpeedAverage        23775 non-null  object \n",
      " 3   VehicleSpeedVariance       23775 non-null  object \n",
      " 4   VehicleSpeedVariation      24769 non-null  object \n",
      " 5   LongitudinalAcceleration   24957 non-null  object \n",
      " 6   EngineLoad                 24952 non-null  object \n",
      " 7   EngineCoolantTemperature   24952 non-null  float64\n",
      " 8   ManifoldAbsolutePressure   24952 non-null  float64\n",
      " 9   EngineRPM                  24952 non-null  object \n",
      " 10  MassAirFlow                24952 non-null  object \n",
      " 11  IntakeAirTemperature       24952 non-null  float64\n",
      " 12  VerticalAcceleration       24957 non-null  object \n",
      " 13  FuelConsumptionAverage     24671 non-null  object \n",
      " 14  roadSurface                24957 non-null  object \n",
      " 15  traffic                    24957 non-null  object \n",
      " 16  drivingStyle               24957 non-null  object \n",
      "dtypes: float64(3), object(14)\n",
      "memory usage: 3.4+ MB\n"
     ]
    }
   ],
   "source": [
    "car_data.info()"
   ]
  },
  {
   "cell_type": "code",
   "execution_count": 7,
   "metadata": {
    "ExecuteTime": {
     "end_time": "2020-10-03T18:35:04.104957Z",
     "start_time": "2020-10-03T18:35:04.062447Z"
    }
   },
   "outputs": [
    {
     "data": {
      "text/plain": [
       "EvenPaceStyle      22089\n",
       "AggressiveStyle     2868\n",
       "Name: drivingStyle, dtype: int64"
      ]
     },
     "execution_count": 7,
     "metadata": {},
     "output_type": "execute_result"
    }
   ],
   "source": [
    "car_data['drivingStyle'].value_counts()"
   ]
  },
  {
   "cell_type": "markdown",
   "metadata": {},
   "source": [
    "Changing the values from objets to floats\n"
   ]
  },
  {
   "cell_type": "code",
   "execution_count": 8,
   "metadata": {
    "ExecuteTime": {
     "end_time": "2020-10-03T18:35:05.655025Z",
     "start_time": "2020-10-03T18:35:04.134426Z"
    }
   },
   "outputs": [
    {
     "data": {
      "text/html": [
       "<div>\n",
       "<style scoped>\n",
       "    .dataframe tbody tr th:only-of-type {\n",
       "        vertical-align: middle;\n",
       "    }\n",
       "\n",
       "    .dataframe tbody tr th {\n",
       "        vertical-align: top;\n",
       "    }\n",
       "\n",
       "    .dataframe thead th {\n",
       "        text-align: right;\n",
       "    }\n",
       "</style>\n",
       "<table border=\"1\" class=\"dataframe\">\n",
       "  <thead>\n",
       "    <tr style=\"text-align: right;\">\n",
       "      <th></th>\n",
       "      <th>AltitudeVariation</th>\n",
       "      <th>VehicleSpeedInstantaneous</th>\n",
       "      <th>VehicleSpeedAverage</th>\n",
       "      <th>VehicleSpeedVariance</th>\n",
       "      <th>VehicleSpeedVariation</th>\n",
       "      <th>LongitudinalAcceleration</th>\n",
       "      <th>EngineLoad</th>\n",
       "      <th>EngineCoolantTemperature</th>\n",
       "      <th>ManifoldAbsolutePressure</th>\n",
       "      <th>EngineRPM</th>\n",
       "      <th>MassAirFlow</th>\n",
       "      <th>IntakeAirTemperature</th>\n",
       "      <th>VerticalAcceleration</th>\n",
       "      <th>FuelConsumptionAverage</th>\n",
       "      <th>roadSurface</th>\n",
       "      <th>traffic</th>\n",
       "      <th>drivingStyle</th>\n",
       "    </tr>\n",
       "  </thead>\n",
       "  <tbody>\n",
       "    <tr>\n",
       "      <th>0</th>\n",
       "      <td>NaN</td>\n",
       "      <td>0.0</td>\n",
       "      <td>NaN</td>\n",
       "      <td>NaN</td>\n",
       "      <td>NaN</td>\n",
       "      <td>0.0156</td>\n",
       "      <td>25.490196</td>\n",
       "      <td>64.0</td>\n",
       "      <td>100.0</td>\n",
       "      <td>801.0</td>\n",
       "      <td>7.85</td>\n",
       "      <td>22.0</td>\n",
       "      <td>-0.0078</td>\n",
       "      <td>NaN</td>\n",
       "      <td>SmoothCondition</td>\n",
       "      <td>LowCongestionCondition</td>\n",
       "      <td>EvenPaceStyle</td>\n",
       "    </tr>\n",
       "    <tr>\n",
       "      <th>1</th>\n",
       "      <td>NaN</td>\n",
       "      <td>0.0</td>\n",
       "      <td>NaN</td>\n",
       "      <td>NaN</td>\n",
       "      <td>NaN</td>\n",
       "      <td>0.0156</td>\n",
       "      <td>25.490196</td>\n",
       "      <td>64.0</td>\n",
       "      <td>100.0</td>\n",
       "      <td>803.0</td>\n",
       "      <td>7.89</td>\n",
       "      <td>22.0</td>\n",
       "      <td>-0.0156</td>\n",
       "      <td>NaN</td>\n",
       "      <td>SmoothCondition</td>\n",
       "      <td>LowCongestionCondition</td>\n",
       "      <td>EvenPaceStyle</td>\n",
       "    </tr>\n",
       "    <tr>\n",
       "      <th>2</th>\n",
       "      <td>NaN</td>\n",
       "      <td>NaN</td>\n",
       "      <td>NaN</td>\n",
       "      <td>NaN</td>\n",
       "      <td>NaN</td>\n",
       "      <td>0.0273</td>\n",
       "      <td>25.882353</td>\n",
       "      <td>64.0</td>\n",
       "      <td>100.0</td>\n",
       "      <td>800.0</td>\n",
       "      <td>7.77</td>\n",
       "      <td>22.0</td>\n",
       "      <td>-0.0273</td>\n",
       "      <td>NaN</td>\n",
       "      <td>SmoothCondition</td>\n",
       "      <td>LowCongestionCondition</td>\n",
       "      <td>EvenPaceStyle</td>\n",
       "    </tr>\n",
       "    <tr>\n",
       "      <th>3</th>\n",
       "      <td>NaN</td>\n",
       "      <td>NaN</td>\n",
       "      <td>NaN</td>\n",
       "      <td>NaN</td>\n",
       "      <td>NaN</td>\n",
       "      <td>0.0391</td>\n",
       "      <td>25.882353</td>\n",
       "      <td>64.0</td>\n",
       "      <td>100.0</td>\n",
       "      <td>798.0</td>\n",
       "      <td>7.77</td>\n",
       "      <td>22.0</td>\n",
       "      <td>-0.0273</td>\n",
       "      <td>NaN</td>\n",
       "      <td>SmoothCondition</td>\n",
       "      <td>LowCongestionCondition</td>\n",
       "      <td>EvenPaceStyle</td>\n",
       "    </tr>\n",
       "    <tr>\n",
       "      <th>4</th>\n",
       "      <td>NaN</td>\n",
       "      <td>0.0</td>\n",
       "      <td>NaN</td>\n",
       "      <td>NaN</td>\n",
       "      <td>NaN</td>\n",
       "      <td>0.0469</td>\n",
       "      <td>25.882353</td>\n",
       "      <td>65.0</td>\n",
       "      <td>100.0</td>\n",
       "      <td>798.0</td>\n",
       "      <td>7.94</td>\n",
       "      <td>22.0</td>\n",
       "      <td>-0.0312</td>\n",
       "      <td>NaN</td>\n",
       "      <td>SmoothCondition</td>\n",
       "      <td>LowCongestionCondition</td>\n",
       "      <td>EvenPaceStyle</td>\n",
       "    </tr>\n",
       "  </tbody>\n",
       "</table>\n",
       "</div>"
      ],
      "text/plain": [
       "   AltitudeVariation  VehicleSpeedInstantaneous  VehicleSpeedAverage  \\\n",
       "0                NaN                        0.0                  NaN   \n",
       "1                NaN                        0.0                  NaN   \n",
       "2                NaN                        NaN                  NaN   \n",
       "3                NaN                        NaN                  NaN   \n",
       "4                NaN                        0.0                  NaN   \n",
       "\n",
       "   VehicleSpeedVariance  VehicleSpeedVariation  LongitudinalAcceleration  \\\n",
       "0                   NaN                    NaN                    0.0156   \n",
       "1                   NaN                    NaN                    0.0156   \n",
       "2                   NaN                    NaN                    0.0273   \n",
       "3                   NaN                    NaN                    0.0391   \n",
       "4                   NaN                    NaN                    0.0469   \n",
       "\n",
       "   EngineLoad  EngineCoolantTemperature  ManifoldAbsolutePressure  EngineRPM  \\\n",
       "0   25.490196                      64.0                     100.0      801.0   \n",
       "1   25.490196                      64.0                     100.0      803.0   \n",
       "2   25.882353                      64.0                     100.0      800.0   \n",
       "3   25.882353                      64.0                     100.0      798.0   \n",
       "4   25.882353                      65.0                     100.0      798.0   \n",
       "\n",
       "   MassAirFlow  IntakeAirTemperature  VerticalAcceleration  \\\n",
       "0         7.85                  22.0               -0.0078   \n",
       "1         7.89                  22.0               -0.0156   \n",
       "2         7.77                  22.0               -0.0273   \n",
       "3         7.77                  22.0               -0.0273   \n",
       "4         7.94                  22.0               -0.0312   \n",
       "\n",
       "   FuelConsumptionAverage      roadSurface                 traffic  \\\n",
       "0                     NaN  SmoothCondition  LowCongestionCondition   \n",
       "1                     NaN  SmoothCondition  LowCongestionCondition   \n",
       "2                     NaN  SmoothCondition  LowCongestionCondition   \n",
       "3                     NaN  SmoothCondition  LowCongestionCondition   \n",
       "4                     NaN  SmoothCondition  LowCongestionCondition   \n",
       "\n",
       "    drivingStyle  \n",
       "0  EvenPaceStyle  \n",
       "1  EvenPaceStyle  \n",
       "2  EvenPaceStyle  \n",
       "3  EvenPaceStyle  \n",
       "4  EvenPaceStyle  "
      ]
     },
     "execution_count": 8,
     "metadata": {},
     "output_type": "execute_result"
    }
   ],
   "source": [
    "car_data[car_data.columns[:-3]] = car_data[car_data.columns[:-3]].replace(',','.',regex=True).astype(float)\n",
    "car_data.head()"
   ]
  },
  {
   "cell_type": "code",
   "execution_count": 9,
   "metadata": {
    "ExecuteTime": {
     "end_time": "2020-10-03T18:35:05.752622Z",
     "start_time": "2020-10-03T18:35:05.661127Z"
    }
   },
   "outputs": [
    {
     "name": "stdout",
     "output_type": "stream",
     "text": [
      "<class 'pandas.core.frame.DataFrame'>\n",
      "Int64Index: 24957 entries, 0 to 4622\n",
      "Data columns (total 17 columns):\n",
      " #   Column                     Non-Null Count  Dtype  \n",
      "---  ------                     --------------  -----  \n",
      " 0   AltitudeVariation          24777 non-null  float64\n",
      " 1   VehicleSpeedInstantaneous  24913 non-null  float64\n",
      " 2   VehicleSpeedAverage        23775 non-null  float64\n",
      " 3   VehicleSpeedVariance       23775 non-null  float64\n",
      " 4   VehicleSpeedVariation      24769 non-null  float64\n",
      " 5   LongitudinalAcceleration   24957 non-null  float64\n",
      " 6   EngineLoad                 24952 non-null  float64\n",
      " 7   EngineCoolantTemperature   24952 non-null  float64\n",
      " 8   ManifoldAbsolutePressure   24952 non-null  float64\n",
      " 9   EngineRPM                  24952 non-null  float64\n",
      " 10  MassAirFlow                24952 non-null  float64\n",
      " 11  IntakeAirTemperature       24952 non-null  float64\n",
      " 12  VerticalAcceleration       24957 non-null  float64\n",
      " 13  FuelConsumptionAverage     24671 non-null  float64\n",
      " 14  roadSurface                24957 non-null  object \n",
      " 15  traffic                    24957 non-null  object \n",
      " 16  drivingStyle               24957 non-null  object \n",
      "dtypes: float64(14), object(3)\n",
      "memory usage: 3.4+ MB\n"
     ]
    }
   ],
   "source": [
    "car_data.info()"
   ]
  },
  {
   "cell_type": "markdown",
   "metadata": {},
   "source": [
    "Lets take a look at the data"
   ]
  },
  {
   "cell_type": "markdown",
   "metadata": {},
   "source": [
    "# Test Train Split "
   ]
  },
  {
   "cell_type": "code",
   "execution_count": 10,
   "metadata": {
    "ExecuteTime": {
     "end_time": "2020-10-03T18:35:05.860761Z",
     "start_time": "2020-10-03T18:35:05.819818Z"
    }
   },
   "outputs": [],
   "source": [
    "\n",
    "X = car_data.drop(['drivingStyle'], axis = 1)\n",
    "y = car_data['drivingStyle']"
   ]
  },
  {
   "cell_type": "markdown",
   "metadata": {},
   "source": [
    "This is the part where split the data before processing. This helps with ensuring that our model is actual giving us true prediction because we are eleminating data leakage."
   ]
  },
  {
   "cell_type": "code",
   "execution_count": 36,
   "metadata": {
    "ExecuteTime": {
     "end_time": "2020-10-03T18:43:58.767532Z",
     "start_time": "2020-10-03T18:43:58.725775Z"
    }
   },
   "outputs": [
    {
     "data": {
      "text/plain": [
       "((17469, 16), (7488,))"
      ]
     },
     "execution_count": 36,
     "metadata": {},
     "output_type": "execute_result"
    }
   ],
   "source": [
    "from sklearn.model_selection import train_test_split\n",
    "\n",
    "## Get X,y and train-test-split\n",
    "X = car_data.drop(['drivingStyle'], axis = 1).copy()\n",
    "y = car_data['drivingStyle'].map({'EvenPaceStyle':0,'AggressiveStyle':1 }).copy()\n",
    "\n",
    "\n",
    "X_train, X_test, y_train, y_test = train_test_split(X, y, test_size=0.3, random_state=22)\n",
    "X_train.shape, y_test.shape\n"
   ]
  },
  {
   "cell_type": "code",
   "execution_count": 37,
   "metadata": {
    "ExecuteTime": {
     "end_time": "2020-10-03T18:44:08.585135Z",
     "start_time": "2020-10-03T18:44:08.572197Z"
    }
   },
   "outputs": [
    {
     "data": {
      "text/plain": [
       "AltitudeVariation            127\n",
       "VehicleSpeedInstantaneous     34\n",
       "VehicleSpeedAverage          822\n",
       "VehicleSpeedVariance         822\n",
       "VehicleSpeedVariation        133\n",
       "LongitudinalAcceleration       0\n",
       "EngineLoad                     3\n",
       "EngineCoolantTemperature       3\n",
       "ManifoldAbsolutePressure       3\n",
       "EngineRPM                      3\n",
       "MassAirFlow                    3\n",
       "IntakeAirTemperature           3\n",
       "VerticalAcceleration           0\n",
       "FuelConsumptionAverage       207\n",
       "roadSurface                    0\n",
       "traffic                        0\n",
       "dtype: int64"
      ]
     },
     "execution_count": 37,
     "metadata": {},
     "output_type": "execute_result"
    }
   ],
   "source": [
    "X_train.isna().sum()"
   ]
  },
  {
   "cell_type": "markdown",
   "metadata": {},
   "source": [
    "# Preprocessing with Pipelines + ColumnTransformer"
   ]
  },
  {
   "cell_type": "code",
   "execution_count": 38,
   "metadata": {
    "ExecuteTime": {
     "end_time": "2020-10-03T18:44:14.098538Z",
     "start_time": "2020-10-03T18:44:14.087851Z"
    }
   },
   "outputs": [],
   "source": [
    "from sklearn.pipeline import Pipeline\n",
    "\n",
    "from sklearn.impute import SimpleImputer\n",
    "from sklearn.preprocessing import StandardScaler, OneHotEncoder"
   ]
  },
  {
   "cell_type": "code",
   "execution_count": 39,
   "metadata": {
    "ExecuteTime": {
     "end_time": "2020-10-03T18:44:14.717120Z",
     "start_time": "2020-10-03T18:44:14.693827Z"
    }
   },
   "outputs": [
    {
     "data": {
      "text/plain": [
       "['AltitudeVariation',\n",
       " 'VehicleSpeedInstantaneous',\n",
       " 'VehicleSpeedAverage',\n",
       " 'VehicleSpeedVariance',\n",
       " 'VehicleSpeedVariation',\n",
       " 'LongitudinalAcceleration',\n",
       " 'EngineLoad',\n",
       " 'EngineCoolantTemperature',\n",
       " 'ManifoldAbsolutePressure',\n",
       " 'EngineRPM',\n",
       " 'MassAirFlow',\n",
       " 'IntakeAirTemperature',\n",
       " 'VerticalAcceleration',\n",
       " 'FuelConsumptionAverage']"
      ]
     },
     "execution_count": 39,
     "metadata": {},
     "output_type": "execute_result"
    }
   ],
   "source": [
    "## Get list of numeric features to sacle\n",
    "target='drivingStyle'\n",
    "num_cols = car_data.drop(columns=target).select_dtypes('number').columns.tolist()\n",
    "num_cols"
   ]
  },
  {
   "cell_type": "code",
   "execution_count": 40,
   "metadata": {
    "ExecuteTime": {
     "end_time": "2020-10-03T18:44:16.034025Z",
     "start_time": "2020-10-03T18:44:16.020059Z"
    }
   },
   "outputs": [],
   "source": [
    "## Create a num_trasnformer pipeline \n",
    "## that will impute using median and then calculate z-scores\n",
    "num_transformer = Pipeline(steps=[\n",
    "    ('imputer',SimpleImputer(strategy='median')),\n",
    "    ('scale',StandardScaler())])"
   ]
  },
  {
   "cell_type": "code",
   "execution_count": 41,
   "metadata": {
    "ExecuteTime": {
     "end_time": "2020-10-03T18:44:16.847849Z",
     "start_time": "2020-10-03T18:44:16.762337Z"
    }
   },
   "outputs": [
    {
     "data": {
      "text/plain": [
       "array([[ 0.12521365, -1.11855817, -1.14557343, ..., -0.3893064 ,\n",
       "        -0.13540383,  0.14774317],\n",
       "       [-0.15964819, -1.11855817, -0.77148103, ..., -0.3893064 ,\n",
       "        -0.05735802,  0.08516083],\n",
       "       [ 0.48126922, -0.74477274, -1.20134125, ..., -0.481642  ,\n",
       "        -0.11736911,  0.54170326],\n",
       "       ...,\n",
       "       [-0.33765832, -0.47778317,  0.05248532, ..., -0.3893064 ,\n",
       "        -0.25448432, -0.36731711],\n",
       "       [-0.08842051, -0.66467587, -0.85256554, ...,  0.07237157,\n",
       "        -0.25768035, -0.43470568],\n",
       "       [ 0.12521365, -0.93819602, -1.08482024, ..., -0.20463521,\n",
       "        -0.04391759,  0.46947184]])"
      ]
     },
     "execution_count": 41,
     "metadata": {},
     "output_type": "execute_result"
    }
   ],
   "source": [
    "## .fit_transform X_train\n",
    "X_train_tf = num_transformer.fit_transform(X_train[num_cols])\n",
    "X_train_tf"
   ]
  },
  {
   "cell_type": "markdown",
   "metadata": {},
   "source": [
    "## Categorical Features"
   ]
  },
  {
   "cell_type": "code",
   "execution_count": 42,
   "metadata": {
    "ExecuteTime": {
     "end_time": "2020-10-03T18:44:18.906870Z",
     "start_time": "2020-10-03T18:44:18.880728Z"
    }
   },
   "outputs": [
    {
     "data": {
      "text/plain": [
       "['roadSurface', 'traffic']"
      ]
     },
     "execution_count": 42,
     "metadata": {},
     "output_type": "execute_result"
    }
   ],
   "source": [
    "## Get list of cat features to encode\n",
    "cat_cols = car_data.drop(columns=target).select_dtypes('O').columns.tolist()\n",
    "cat_cols"
   ]
  },
  {
   "cell_type": "code",
   "execution_count": 43,
   "metadata": {
    "ExecuteTime": {
     "end_time": "2020-10-03T18:44:19.785367Z",
     "start_time": "2020-10-03T18:44:19.777597Z"
    }
   },
   "outputs": [],
   "source": [
    "## Create a cat_transformer pipeline \n",
    "## that will impute using median and then calculate z-scores\n",
    "cat_transformer = Pipeline(steps=[\n",
    "    ('imputer',SimpleImputer(strategy='constant',fill_value='missing')),\n",
    "    ('encoder',OneHotEncoder(sparse=False,handle_unknown='ignore'))])"
   ]
  },
  {
   "cell_type": "code",
   "execution_count": 44,
   "metadata": {
    "ExecuteTime": {
     "end_time": "2020-10-03T18:44:21.483095Z",
     "start_time": "2020-10-03T18:44:21.438628Z"
    }
   },
   "outputs": [
    {
     "data": {
      "text/plain": [
       "array([[0., 1., 0., 1., 0., 0.],\n",
       "       [0., 1., 0., 0., 1., 0.],\n",
       "       [1., 0., 0., 1., 0., 0.],\n",
       "       ...,\n",
       "       [0., 0., 1., 0., 0., 1.],\n",
       "       [1., 0., 0., 0., 1., 0.],\n",
       "       [0., 1., 0., 0., 0., 1.]])"
      ]
     },
     "execution_count": 44,
     "metadata": {},
     "output_type": "execute_result"
    }
   ],
   "source": [
    "## Fit-transform data\n",
    "X_train_cat =cat_transformer.fit_transform(X_train[cat_cols])\n",
    "X_train_cat"
   ]
  },
  {
   "cell_type": "markdown",
   "metadata": {},
   "source": [
    "### Putting it all together with ColumnTransformer"
   ]
  },
  {
   "cell_type": "code",
   "execution_count": 45,
   "metadata": {
    "ExecuteTime": {
     "end_time": "2020-10-03T18:44:23.116543Z",
     "start_time": "2020-10-03T18:44:23.108905Z"
    }
   },
   "outputs": [],
   "source": [
    "from sklearn.compose import ColumnTransformer\n",
    "from sklearn import set_config\n",
    "set_config(display='diagram')"
   ]
  },
  {
   "cell_type": "code",
   "execution_count": 46,
   "metadata": {
    "ExecuteTime": {
     "end_time": "2020-10-03T18:44:24.346386Z",
     "start_time": "2020-10-03T18:44:24.308632Z"
    }
   },
   "outputs": [
    {
     "data": {
      "text/html": [
       "<style>div.sk-top-container {color: black;background-color: white;}div.sk-toggleable {background-color: white;}label.sk-toggleable__label {cursor: pointer;display: block;width: 100%;margin-bottom: 0;padding: 0.2em 0.3em;box-sizing: border-box;text-align: center;}div.sk-toggleable__content {max-height: 0;max-width: 0;overflow: hidden;text-align: left;background-color: #f0f8ff;}div.sk-toggleable__content pre {margin: 0.2em;color: black;border-radius: 0.25em;background-color: #f0f8ff;}input.sk-toggleable__control:checked~div.sk-toggleable__content {max-height: 200px;max-width: 100%;overflow: auto;}div.sk-estimator input.sk-toggleable__control:checked~label.sk-toggleable__label {background-color: #d4ebff;}div.sk-label input.sk-toggleable__control:checked~label.sk-toggleable__label {background-color: #d4ebff;}input.sk-hidden--visually {border: 0;clip: rect(1px 1px 1px 1px);clip: rect(1px, 1px, 1px, 1px);height: 1px;margin: -1px;overflow: hidden;padding: 0;position: absolute;width: 1px;}div.sk-estimator {font-family: monospace;background-color: #f0f8ff;margin: 0.25em 0.25em;border: 1px dotted black;border-radius: 0.25em;box-sizing: border-box;}div.sk-estimator:hover {background-color: #d4ebff;}div.sk-parallel-item::after {content: \"\";width: 100%;border-bottom: 1px solid gray;flex-grow: 1;}div.sk-label:hover label.sk-toggleable__label {background-color: #d4ebff;}div.sk-serial::before {content: \"\";position: absolute;border-left: 1px solid gray;box-sizing: border-box;top: 2em;bottom: 0;left: 50%;}div.sk-serial {display: flex;flex-direction: column;align-items: center;background-color: white;}div.sk-item {z-index: 1;}div.sk-parallel {display: flex;align-items: stretch;justify-content: center;background-color: white;}div.sk-parallel-item {display: flex;flex-direction: column;position: relative;background-color: white;}div.sk-parallel-item:first-child::after {align-self: flex-end;width: 50%;}div.sk-parallel-item:last-child::after {align-self: flex-start;width: 50%;}div.sk-parallel-item:only-child::after {width: 0;}div.sk-dashed-wrapped {border: 1px dashed gray;margin: 0.2em;box-sizing: border-box;padding-bottom: 0.1em;background-color: white;position: relative;}div.sk-label label {font-family: monospace;font-weight: bold;background-color: white;display: inline-block;line-height: 1.2em;}div.sk-label-container {position: relative;z-index: 2;text-align: center;}div.sk-container {display: inline-block;position: relative;}</style><div class=\"sk-top-container\"><div class=\"sk-container\"><div class=\"sk-item sk-dashed-wrapped\"><div class=\"sk-label-container\"><div class=\"sk-label sk-toggleable\"><input class=\"sk-toggleable__control sk-hidden--visually\" id=\"419e9254-f98d-4ec3-ab2f-f89e7f305ccd\" type=\"checkbox\" ><label class=\"sk-toggleable__label\" for=\"419e9254-f98d-4ec3-ab2f-f89e7f305ccd\">Pipeline</label><div class=\"sk-toggleable__content\"><pre>Pipeline(steps=[('imputer', SimpleImputer(strategy='median')),\n",
       "                ('scale', StandardScaler())])</pre></div></div></div><div class=\"sk-serial\"><div class=\"sk-item\"><div class=\"sk-estimator sk-toggleable\"><input class=\"sk-toggleable__control sk-hidden--visually\" id=\"0efbc5e6-6bad-42ed-bf9d-808ce7caeb2d\" type=\"checkbox\" ><label class=\"sk-toggleable__label\" for=\"0efbc5e6-6bad-42ed-bf9d-808ce7caeb2d\">SimpleImputer</label><div class=\"sk-toggleable__content\"><pre>SimpleImputer(strategy='median')</pre></div></div></div><div class=\"sk-item\"><div class=\"sk-estimator sk-toggleable\"><input class=\"sk-toggleable__control sk-hidden--visually\" id=\"ff5c0e3a-9700-4197-bead-5ce628d3bb66\" type=\"checkbox\" ><label class=\"sk-toggleable__label\" for=\"ff5c0e3a-9700-4197-bead-5ce628d3bb66\">StandardScaler</label><div class=\"sk-toggleable__content\"><pre>StandardScaler()</pre></div></div></div></div></div></div></div>"
      ],
      "text/plain": [
       "Pipeline(steps=[('imputer', SimpleImputer(strategy='median')),\n",
       "                ('scale', StandardScaler())])"
      ]
     },
     "execution_count": 46,
     "metadata": {},
     "output_type": "execute_result"
    }
   ],
   "source": [
    "## Display Pipelines from earlier\n",
    "num_transformer"
   ]
  },
  {
   "cell_type": "code",
   "execution_count": 47,
   "metadata": {
    "ExecuteTime": {
     "end_time": "2020-10-03T18:44:25.613087Z",
     "start_time": "2020-10-03T18:44:25.477980Z"
    }
   },
   "outputs": [
    {
     "data": {
      "text/html": [
       "<style>div.sk-top-container {color: black;background-color: white;}div.sk-toggleable {background-color: white;}label.sk-toggleable__label {cursor: pointer;display: block;width: 100%;margin-bottom: 0;padding: 0.2em 0.3em;box-sizing: border-box;text-align: center;}div.sk-toggleable__content {max-height: 0;max-width: 0;overflow: hidden;text-align: left;background-color: #f0f8ff;}div.sk-toggleable__content pre {margin: 0.2em;color: black;border-radius: 0.25em;background-color: #f0f8ff;}input.sk-toggleable__control:checked~div.sk-toggleable__content {max-height: 200px;max-width: 100%;overflow: auto;}div.sk-estimator input.sk-toggleable__control:checked~label.sk-toggleable__label {background-color: #d4ebff;}div.sk-label input.sk-toggleable__control:checked~label.sk-toggleable__label {background-color: #d4ebff;}input.sk-hidden--visually {border: 0;clip: rect(1px 1px 1px 1px);clip: rect(1px, 1px, 1px, 1px);height: 1px;margin: -1px;overflow: hidden;padding: 0;position: absolute;width: 1px;}div.sk-estimator {font-family: monospace;background-color: #f0f8ff;margin: 0.25em 0.25em;border: 1px dotted black;border-radius: 0.25em;box-sizing: border-box;}div.sk-estimator:hover {background-color: #d4ebff;}div.sk-parallel-item::after {content: \"\";width: 100%;border-bottom: 1px solid gray;flex-grow: 1;}div.sk-label:hover label.sk-toggleable__label {background-color: #d4ebff;}div.sk-serial::before {content: \"\";position: absolute;border-left: 1px solid gray;box-sizing: border-box;top: 2em;bottom: 0;left: 50%;}div.sk-serial {display: flex;flex-direction: column;align-items: center;background-color: white;}div.sk-item {z-index: 1;}div.sk-parallel {display: flex;align-items: stretch;justify-content: center;background-color: white;}div.sk-parallel-item {display: flex;flex-direction: column;position: relative;background-color: white;}div.sk-parallel-item:first-child::after {align-self: flex-end;width: 50%;}div.sk-parallel-item:last-child::after {align-self: flex-start;width: 50%;}div.sk-parallel-item:only-child::after {width: 0;}div.sk-dashed-wrapped {border: 1px dashed gray;margin: 0.2em;box-sizing: border-box;padding-bottom: 0.1em;background-color: white;position: relative;}div.sk-label label {font-family: monospace;font-weight: bold;background-color: white;display: inline-block;line-height: 1.2em;}div.sk-label-container {position: relative;z-index: 2;text-align: center;}div.sk-container {display: inline-block;position: relative;}</style><div class=\"sk-top-container\"><div class=\"sk-container\"><div class=\"sk-item sk-dashed-wrapped\"><div class=\"sk-label-container\"><div class=\"sk-label sk-toggleable\"><input class=\"sk-toggleable__control sk-hidden--visually\" id=\"7064d7b8-74bc-41a2-8bd9-c98bcae8996a\" type=\"checkbox\" ><label class=\"sk-toggleable__label\" for=\"7064d7b8-74bc-41a2-8bd9-c98bcae8996a\">ColumnTransformer</label><div class=\"sk-toggleable__content\"><pre>ColumnTransformer(transformers=[('num',\n",
       "                                 Pipeline(steps=[('imputer',\n",
       "                                                  SimpleImputer(strategy='median')),\n",
       "                                                 ('scale', StandardScaler())]),\n",
       "                                 ['AltitudeVariation',\n",
       "                                  'VehicleSpeedInstantaneous',\n",
       "                                  'VehicleSpeedAverage', 'VehicleSpeedVariance',\n",
       "                                  'VehicleSpeedVariation',\n",
       "                                  'LongitudinalAcceleration', 'EngineLoad',\n",
       "                                  'EngineCoolantTemperature',\n",
       "                                  'ManifoldAbsolutePressure', 'EngineRPM',\n",
       "                                  'MassAirFlow', 'IntakeAirTemperature',\n",
       "                                  'VerticalAcceleration',\n",
       "                                  'FuelConsumptionAverage']),\n",
       "                                ('cat',\n",
       "                                 Pipeline(steps=[('imputer',\n",
       "                                                  SimpleImputer(fill_value='missing',\n",
       "                                                                strategy='constant')),\n",
       "                                                 ('encoder',\n",
       "                                                  OneHotEncoder(handle_unknown='ignore',\n",
       "                                                                sparse=False))]),\n",
       "                                 ['roadSurface', 'traffic'])])</pre></div></div></div><div class=\"sk-parallel\"><div class=\"sk-parallel-item\"><div class=\"sk-item\"><div class=\"sk-label-container\"><div class=\"sk-label sk-toggleable\"><input class=\"sk-toggleable__control sk-hidden--visually\" id=\"ae993d0c-20b4-4f97-ac4b-38f4db3f9ca9\" type=\"checkbox\" ><label class=\"sk-toggleable__label\" for=\"ae993d0c-20b4-4f97-ac4b-38f4db3f9ca9\">num</label><div class=\"sk-toggleable__content\"><pre>['AltitudeVariation', 'VehicleSpeedInstantaneous', 'VehicleSpeedAverage', 'VehicleSpeedVariance', 'VehicleSpeedVariation', 'LongitudinalAcceleration', 'EngineLoad', 'EngineCoolantTemperature', 'ManifoldAbsolutePressure', 'EngineRPM', 'MassAirFlow', 'IntakeAirTemperature', 'VerticalAcceleration', 'FuelConsumptionAverage']</pre></div></div></div><div class=\"sk-serial\"><div class=\"sk-item\"><div class=\"sk-serial\"><div class=\"sk-item\"><div class=\"sk-estimator sk-toggleable\"><input class=\"sk-toggleable__control sk-hidden--visually\" id=\"6d8efc7c-23a3-4faa-8961-47d1905b61e9\" type=\"checkbox\" ><label class=\"sk-toggleable__label\" for=\"6d8efc7c-23a3-4faa-8961-47d1905b61e9\">SimpleImputer</label><div class=\"sk-toggleable__content\"><pre>SimpleImputer(strategy='median')</pre></div></div></div><div class=\"sk-item\"><div class=\"sk-estimator sk-toggleable\"><input class=\"sk-toggleable__control sk-hidden--visually\" id=\"5e21e8f5-bd79-4598-b9ef-3594a89c36fc\" type=\"checkbox\" ><label class=\"sk-toggleable__label\" for=\"5e21e8f5-bd79-4598-b9ef-3594a89c36fc\">StandardScaler</label><div class=\"sk-toggleable__content\"><pre>StandardScaler()</pre></div></div></div></div></div></div></div></div><div class=\"sk-parallel-item\"><div class=\"sk-item\"><div class=\"sk-label-container\"><div class=\"sk-label sk-toggleable\"><input class=\"sk-toggleable__control sk-hidden--visually\" id=\"48f90550-576f-429f-9566-c4417e05ec4c\" type=\"checkbox\" ><label class=\"sk-toggleable__label\" for=\"48f90550-576f-429f-9566-c4417e05ec4c\">cat</label><div class=\"sk-toggleable__content\"><pre>['roadSurface', 'traffic']</pre></div></div></div><div class=\"sk-serial\"><div class=\"sk-item\"><div class=\"sk-serial\"><div class=\"sk-item\"><div class=\"sk-estimator sk-toggleable\"><input class=\"sk-toggleable__control sk-hidden--visually\" id=\"7f5e7d37-bea7-44df-b248-70cd51a28289\" type=\"checkbox\" ><label class=\"sk-toggleable__label\" for=\"7f5e7d37-bea7-44df-b248-70cd51a28289\">SimpleImputer</label><div class=\"sk-toggleable__content\"><pre>SimpleImputer(fill_value='missing', strategy='constant')</pre></div></div></div><div class=\"sk-item\"><div class=\"sk-estimator sk-toggleable\"><input class=\"sk-toggleable__control sk-hidden--visually\" id=\"792e1e32-4916-4fad-830d-88b009fb6ec1\" type=\"checkbox\" ><label class=\"sk-toggleable__label\" for=\"792e1e32-4916-4fad-830d-88b009fb6ec1\">OneHotEncoder</label><div class=\"sk-toggleable__content\"><pre>OneHotEncoder(handle_unknown='ignore', sparse=False)</pre></div></div></div></div></div></div></div></div></div></div></div></div>"
      ],
      "text/plain": [
       "ColumnTransformer(transformers=[('num',\n",
       "                                 Pipeline(steps=[('imputer',\n",
       "                                                  SimpleImputer(strategy='median')),\n",
       "                                                 ('scale', StandardScaler())]),\n",
       "                                 ['AltitudeVariation',\n",
       "                                  'VehicleSpeedInstantaneous',\n",
       "                                  'VehicleSpeedAverage', 'VehicleSpeedVariance',\n",
       "                                  'VehicleSpeedVariation',\n",
       "                                  'LongitudinalAcceleration', 'EngineLoad',\n",
       "                                  'EngineCoolantTemperature',\n",
       "                                  'ManifoldAbsolutePressure', 'EngineRPM',\n",
       "                                  'MassAirFlow', 'IntakeAirTemperature',\n",
       "                                  'VerticalAcceleration',\n",
       "                                  'FuelConsumptionAverage']),\n",
       "                                ('cat',\n",
       "                                 Pipeline(steps=[('imputer',\n",
       "                                                  SimpleImputer(fill_value='missing',\n",
       "                                                                strategy='constant')),\n",
       "                                                 ('encoder',\n",
       "                                                  OneHotEncoder(handle_unknown='ignore',\n",
       "                                                                sparse=False))]),\n",
       "                                 ['roadSurface', 'traffic'])])"
      ]
     },
     "execution_count": 47,
     "metadata": {},
     "output_type": "execute_result"
    }
   ],
   "source": [
    "## COMBINE BOTH PIPELINES INTO ONE WITH COLUMN TRANSFORMER\n",
    "preprocessing=ColumnTransformer(transformers=[\n",
    "    ('num',num_transformer,num_cols),\n",
    "    ('cat',cat_transformer,cat_cols)])\n",
    "preprocessing"
   ]
  },
  {
   "cell_type": "code",
   "execution_count": 48,
   "metadata": {
    "ExecuteTime": {
     "end_time": "2020-10-03T18:44:26.640729Z",
     "start_time": "2020-10-03T18:44:26.543318Z"
    }
   },
   "outputs": [],
   "source": [
    "## Get X_train and X_test from column transformer\n",
    "X_train_tf = preprocessing.fit_transform(X_train)\n",
    "X_test_tf = preprocessing.transform(X_test)"
   ]
  },
  {
   "cell_type": "markdown",
   "metadata": {},
   "source": [
    "Find feature names"
   ]
  },
  {
   "cell_type": "code",
   "execution_count": 49,
   "metadata": {
    "ExecuteTime": {
     "end_time": "2020-10-03T18:44:28.537983Z",
     "start_time": "2020-10-03T18:44:28.508036Z"
    }
   },
   "outputs": [
    {
     "data": {
      "text/plain": [
       "['roadSurface_FullOfHolesCondition',\n",
       " 'roadSurface_SmoothCondition',\n",
       " 'roadSurface_UnevenCondition',\n",
       " 'traffic_HighCongestionCondition',\n",
       " 'traffic_LowCongestionCondition',\n",
       " 'traffic_NormalCongestionCondition']"
      ]
     },
     "execution_count": 49,
     "metadata": {},
     "output_type": "execute_result"
    }
   ],
   "source": [
    "## Explore the named_transformers\n",
    "feature_names = preprocessing.named_transformers_['cat'].\\\n",
    "                named_steps['encoder'].get_feature_names(cat_cols).tolist()\n",
    "feature_names"
   ]
  },
  {
   "cell_type": "code",
   "execution_count": 50,
   "metadata": {
    "ExecuteTime": {
     "end_time": "2020-10-03T18:44:29.855914Z",
     "start_time": "2020-10-03T18:44:29.844549Z"
    }
   },
   "outputs": [
    {
     "data": {
      "text/plain": [
       "['AltitudeVariation',\n",
       " 'VehicleSpeedInstantaneous',\n",
       " 'VehicleSpeedAverage',\n",
       " 'VehicleSpeedVariance',\n",
       " 'VehicleSpeedVariation',\n",
       " 'LongitudinalAcceleration',\n",
       " 'EngineLoad',\n",
       " 'EngineCoolantTemperature',\n",
       " 'ManifoldAbsolutePressure',\n",
       " 'EngineRPM',\n",
       " 'MassAirFlow',\n",
       " 'IntakeAirTemperature',\n",
       " 'VerticalAcceleration',\n",
       " 'FuelConsumptionAverage',\n",
       " 'roadSurface_FullOfHolesCondition',\n",
       " 'roadSurface_SmoothCondition',\n",
       " 'roadSurface_UnevenCondition',\n",
       " 'traffic_HighCongestionCondition',\n",
       " 'traffic_LowCongestionCondition',\n",
       " 'traffic_NormalCongestionCondition']"
      ]
     },
     "execution_count": 50,
     "metadata": {},
     "output_type": "execute_result"
    }
   ],
   "source": [
    "## Find the encoder inside the cat transformer\n",
    "X_cols = num_cols+feature_names\n",
    "X_cols"
   ]
  },
  {
   "cell_type": "code",
   "execution_count": 51,
   "metadata": {
    "ExecuteTime": {
     "end_time": "2020-10-03T18:44:32.297128Z",
     "start_time": "2020-10-03T18:44:32.150812Z"
    }
   },
   "outputs": [
    {
     "data": {
      "text/html": [
       "<div>\n",
       "<style scoped>\n",
       "    .dataframe tbody tr th:only-of-type {\n",
       "        vertical-align: middle;\n",
       "    }\n",
       "\n",
       "    .dataframe tbody tr th {\n",
       "        vertical-align: top;\n",
       "    }\n",
       "\n",
       "    .dataframe thead th {\n",
       "        text-align: right;\n",
       "    }\n",
       "</style>\n",
       "<table border=\"1\" class=\"dataframe\">\n",
       "  <thead>\n",
       "    <tr style=\"text-align: right;\">\n",
       "      <th></th>\n",
       "      <th>AltitudeVariation</th>\n",
       "      <th>VehicleSpeedInstantaneous</th>\n",
       "      <th>VehicleSpeedAverage</th>\n",
       "      <th>VehicleSpeedVariance</th>\n",
       "      <th>VehicleSpeedVariation</th>\n",
       "      <th>LongitudinalAcceleration</th>\n",
       "      <th>EngineLoad</th>\n",
       "      <th>EngineCoolantTemperature</th>\n",
       "      <th>ManifoldAbsolutePressure</th>\n",
       "      <th>EngineRPM</th>\n",
       "      <th>MassAirFlow</th>\n",
       "      <th>IntakeAirTemperature</th>\n",
       "      <th>VerticalAcceleration</th>\n",
       "      <th>FuelConsumptionAverage</th>\n",
       "      <th>roadSurface_FullOfHolesCondition</th>\n",
       "      <th>roadSurface_SmoothCondition</th>\n",
       "      <th>roadSurface_UnevenCondition</th>\n",
       "      <th>traffic_HighCongestionCondition</th>\n",
       "      <th>traffic_LowCongestionCondition</th>\n",
       "      <th>traffic_NormalCongestionCondition</th>\n",
       "    </tr>\n",
       "  </thead>\n",
       "  <tbody>\n",
       "    <tr>\n",
       "      <th>0</th>\n",
       "      <td>0.125214</td>\n",
       "      <td>-1.118558</td>\n",
       "      <td>-1.145573</td>\n",
       "      <td>-0.806399</td>\n",
       "      <td>0.006884</td>\n",
       "      <td>-0.387866</td>\n",
       "      <td>-0.247306</td>\n",
       "      <td>0.557967</td>\n",
       "      <td>-0.727558</td>\n",
       "      <td>-1.167306</td>\n",
       "      <td>-1.175029</td>\n",
       "      <td>-0.389306</td>\n",
       "      <td>-0.135404</td>\n",
       "      <td>0.147743</td>\n",
       "      <td>0.0</td>\n",
       "      <td>1.0</td>\n",
       "      <td>0.0</td>\n",
       "      <td>1.0</td>\n",
       "      <td>0.0</td>\n",
       "      <td>0.0</td>\n",
       "    </tr>\n",
       "    <tr>\n",
       "      <th>1</th>\n",
       "      <td>-0.159648</td>\n",
       "      <td>-1.118558</td>\n",
       "      <td>-0.771481</td>\n",
       "      <td>0.044392</td>\n",
       "      <td>0.006884</td>\n",
       "      <td>-0.575924</td>\n",
       "      <td>-0.276914</td>\n",
       "      <td>0.671908</td>\n",
       "      <td>-0.727558</td>\n",
       "      <td>-1.162091</td>\n",
       "      <td>-1.152039</td>\n",
       "      <td>-0.389306</td>\n",
       "      <td>-0.057358</td>\n",
       "      <td>0.085161</td>\n",
       "      <td>0.0</td>\n",
       "      <td>1.0</td>\n",
       "      <td>0.0</td>\n",
       "      <td>0.0</td>\n",
       "      <td>1.0</td>\n",
       "      <td>0.0</td>\n",
       "    </tr>\n",
       "    <tr>\n",
       "      <th>2</th>\n",
       "      <td>0.481269</td>\n",
       "      <td>-0.744773</td>\n",
       "      <td>-1.201341</td>\n",
       "      <td>-0.865276</td>\n",
       "      <td>0.006884</td>\n",
       "      <td>-0.784988</td>\n",
       "      <td>0.478082</td>\n",
       "      <td>-1.151155</td>\n",
       "      <td>-0.628500</td>\n",
       "      <td>-1.085617</td>\n",
       "      <td>-1.005740</td>\n",
       "      <td>-0.481642</td>\n",
       "      <td>-0.117369</td>\n",
       "      <td>0.541703</td>\n",
       "      <td>1.0</td>\n",
       "      <td>0.0</td>\n",
       "      <td>0.0</td>\n",
       "      <td>1.0</td>\n",
       "      <td>0.0</td>\n",
       "      <td>0.0</td>\n",
       "    </tr>\n",
       "    <tr>\n",
       "      <th>3</th>\n",
       "      <td>0.125214</td>\n",
       "      <td>-0.157396</td>\n",
       "      <td>-0.932524</td>\n",
       "      <td>-0.137022</td>\n",
       "      <td>0.380347</td>\n",
       "      <td>0.453642</td>\n",
       "      <td>0.700140</td>\n",
       "      <td>0.557967</td>\n",
       "      <td>-0.479912</td>\n",
       "      <td>-0.333043</td>\n",
       "      <td>-0.430991</td>\n",
       "      <td>1.088063</td>\n",
       "      <td>-0.146219</td>\n",
       "      <td>-0.086966</td>\n",
       "      <td>0.0</td>\n",
       "      <td>0.0</td>\n",
       "      <td>1.0</td>\n",
       "      <td>0.0</td>\n",
       "      <td>1.0</td>\n",
       "      <td>0.0</td>\n",
       "    </tr>\n",
       "    <tr>\n",
       "      <th>4</th>\n",
       "      <td>0.267635</td>\n",
       "      <td>0.563476</td>\n",
       "      <td>-0.224181</td>\n",
       "      <td>1.439643</td>\n",
       "      <td>-0.366581</td>\n",
       "      <td>-0.328848</td>\n",
       "      <td>-1.402006</td>\n",
       "      <td>0.216142</td>\n",
       "      <td>-0.281794</td>\n",
       "      <td>0.307428</td>\n",
       "      <td>0.547125</td>\n",
       "      <td>-0.296971</td>\n",
       "      <td>-0.091202</td>\n",
       "      <td>-0.317556</td>\n",
       "      <td>0.0</td>\n",
       "      <td>0.0</td>\n",
       "      <td>1.0</td>\n",
       "      <td>0.0</td>\n",
       "      <td>0.0</td>\n",
       "      <td>1.0</td>\n",
       "    </tr>\n",
       "    <tr>\n",
       "      <th>...</th>\n",
       "      <td>...</td>\n",
       "      <td>...</td>\n",
       "      <td>...</td>\n",
       "      <td>...</td>\n",
       "      <td>...</td>\n",
       "      <td>...</td>\n",
       "      <td>...</td>\n",
       "      <td>...</td>\n",
       "      <td>...</td>\n",
       "      <td>...</td>\n",
       "      <td>...</td>\n",
       "      <td>...</td>\n",
       "      <td>...</td>\n",
       "      <td>...</td>\n",
       "      <td>...</td>\n",
       "      <td>...</td>\n",
       "      <td>...</td>\n",
       "      <td>...</td>\n",
       "      <td>...</td>\n",
       "      <td>...</td>\n",
       "    </tr>\n",
       "    <tr>\n",
       "      <th>17464</th>\n",
       "      <td>0.730507</td>\n",
       "      <td>-0.691375</td>\n",
       "      <td>-0.278631</td>\n",
       "      <td>-0.493840</td>\n",
       "      <td>0.380347</td>\n",
       "      <td>0.120915</td>\n",
       "      <td>0.714944</td>\n",
       "      <td>0.557967</td>\n",
       "      <td>-0.331324</td>\n",
       "      <td>-0.133167</td>\n",
       "      <td>-0.186462</td>\n",
       "      <td>0.349378</td>\n",
       "      <td>-0.456661</td>\n",
       "      <td>-0.325618</td>\n",
       "      <td>0.0</td>\n",
       "      <td>1.0</td>\n",
       "      <td>0.0</td>\n",
       "      <td>0.0</td>\n",
       "      <td>1.0</td>\n",
       "      <td>0.0</td>\n",
       "    </tr>\n",
       "    <tr>\n",
       "      <th>17465</th>\n",
       "      <td>-0.302052</td>\n",
       "      <td>-0.077299</td>\n",
       "      <td>-0.497903</td>\n",
       "      <td>-0.565096</td>\n",
       "      <td>0.006884</td>\n",
       "      <td>-0.448947</td>\n",
       "      <td>-0.602598</td>\n",
       "      <td>-1.834803</td>\n",
       "      <td>-0.578970</td>\n",
       "      <td>-0.266997</td>\n",
       "      <td>0.083147</td>\n",
       "      <td>-0.758649</td>\n",
       "      <td>-0.089718</td>\n",
       "      <td>0.324594</td>\n",
       "      <td>1.0</td>\n",
       "      <td>0.0</td>\n",
       "      <td>0.0</td>\n",
       "      <td>1.0</td>\n",
       "      <td>0.0</td>\n",
       "      <td>0.0</td>\n",
       "    </tr>\n",
       "    <tr>\n",
       "      <th>17466</th>\n",
       "      <td>-0.337658</td>\n",
       "      <td>-0.477783</td>\n",
       "      <td>0.052485</td>\n",
       "      <td>-0.493292</td>\n",
       "      <td>1.500738</td>\n",
       "      <td>-0.637505</td>\n",
       "      <td>1.366313</td>\n",
       "      <td>0.444025</td>\n",
       "      <td>-0.133207</td>\n",
       "      <td>-0.054086</td>\n",
       "      <td>0.071652</td>\n",
       "      <td>-0.389306</td>\n",
       "      <td>-0.254484</td>\n",
       "      <td>-0.367317</td>\n",
       "      <td>0.0</td>\n",
       "      <td>0.0</td>\n",
       "      <td>1.0</td>\n",
       "      <td>0.0</td>\n",
       "      <td>0.0</td>\n",
       "      <td>1.0</td>\n",
       "    </tr>\n",
       "    <tr>\n",
       "      <th>17467</th>\n",
       "      <td>-0.088421</td>\n",
       "      <td>-0.664676</td>\n",
       "      <td>-0.852566</td>\n",
       "      <td>0.780031</td>\n",
       "      <td>0.380347</td>\n",
       "      <td>-0.215688</td>\n",
       "      <td>1.869644</td>\n",
       "      <td>0.500996</td>\n",
       "      <td>-0.479912</td>\n",
       "      <td>-0.887480</td>\n",
       "      <td>-0.364112</td>\n",
       "      <td>0.072372</td>\n",
       "      <td>-0.257680</td>\n",
       "      <td>-0.434706</td>\n",
       "      <td>1.0</td>\n",
       "      <td>0.0</td>\n",
       "      <td>0.0</td>\n",
       "      <td>0.0</td>\n",
       "      <td>1.0</td>\n",
       "      <td>0.0</td>\n",
       "    </tr>\n",
       "    <tr>\n",
       "      <th>17468</th>\n",
       "      <td>0.125214</td>\n",
       "      <td>-0.938196</td>\n",
       "      <td>-1.084820</td>\n",
       "      <td>-0.694554</td>\n",
       "      <td>2.529781</td>\n",
       "      <td>-0.702900</td>\n",
       "      <td>0.211613</td>\n",
       "      <td>-0.125682</td>\n",
       "      <td>-0.578970</td>\n",
       "      <td>-0.326090</td>\n",
       "      <td>-0.179147</td>\n",
       "      <td>-0.204635</td>\n",
       "      <td>-0.043918</td>\n",
       "      <td>0.469472</td>\n",
       "      <td>0.0</td>\n",
       "      <td>1.0</td>\n",
       "      <td>0.0</td>\n",
       "      <td>0.0</td>\n",
       "      <td>0.0</td>\n",
       "      <td>1.0</td>\n",
       "    </tr>\n",
       "  </tbody>\n",
       "</table>\n",
       "<p>17469 rows × 20 columns</p>\n",
       "</div>"
      ],
      "text/plain": [
       "       AltitudeVariation  VehicleSpeedInstantaneous  VehicleSpeedAverage  \\\n",
       "0               0.125214                  -1.118558            -1.145573   \n",
       "1              -0.159648                  -1.118558            -0.771481   \n",
       "2               0.481269                  -0.744773            -1.201341   \n",
       "3               0.125214                  -0.157396            -0.932524   \n",
       "4               0.267635                   0.563476            -0.224181   \n",
       "...                  ...                        ...                  ...   \n",
       "17464           0.730507                  -0.691375            -0.278631   \n",
       "17465          -0.302052                  -0.077299            -0.497903   \n",
       "17466          -0.337658                  -0.477783             0.052485   \n",
       "17467          -0.088421                  -0.664676            -0.852566   \n",
       "17468           0.125214                  -0.938196            -1.084820   \n",
       "\n",
       "       VehicleSpeedVariance  VehicleSpeedVariation  LongitudinalAcceleration  \\\n",
       "0                 -0.806399               0.006884                 -0.387866   \n",
       "1                  0.044392               0.006884                 -0.575924   \n",
       "2                 -0.865276               0.006884                 -0.784988   \n",
       "3                 -0.137022               0.380347                  0.453642   \n",
       "4                  1.439643              -0.366581                 -0.328848   \n",
       "...                     ...                    ...                       ...   \n",
       "17464             -0.493840               0.380347                  0.120915   \n",
       "17465             -0.565096               0.006884                 -0.448947   \n",
       "17466             -0.493292               1.500738                 -0.637505   \n",
       "17467              0.780031               0.380347                 -0.215688   \n",
       "17468             -0.694554               2.529781                 -0.702900   \n",
       "\n",
       "       EngineLoad  EngineCoolantTemperature  ManifoldAbsolutePressure  \\\n",
       "0       -0.247306                  0.557967                 -0.727558   \n",
       "1       -0.276914                  0.671908                 -0.727558   \n",
       "2        0.478082                 -1.151155                 -0.628500   \n",
       "3        0.700140                  0.557967                 -0.479912   \n",
       "4       -1.402006                  0.216142                 -0.281794   \n",
       "...           ...                       ...                       ...   \n",
       "17464    0.714944                  0.557967                 -0.331324   \n",
       "17465   -0.602598                 -1.834803                 -0.578970   \n",
       "17466    1.366313                  0.444025                 -0.133207   \n",
       "17467    1.869644                  0.500996                 -0.479912   \n",
       "17468    0.211613                 -0.125682                 -0.578970   \n",
       "\n",
       "       EngineRPM  MassAirFlow  IntakeAirTemperature  VerticalAcceleration  \\\n",
       "0      -1.167306    -1.175029             -0.389306             -0.135404   \n",
       "1      -1.162091    -1.152039             -0.389306             -0.057358   \n",
       "2      -1.085617    -1.005740             -0.481642             -0.117369   \n",
       "3      -0.333043    -0.430991              1.088063             -0.146219   \n",
       "4       0.307428     0.547125             -0.296971             -0.091202   \n",
       "...          ...          ...                   ...                   ...   \n",
       "17464  -0.133167    -0.186462              0.349378             -0.456661   \n",
       "17465  -0.266997     0.083147             -0.758649             -0.089718   \n",
       "17466  -0.054086     0.071652             -0.389306             -0.254484   \n",
       "17467  -0.887480    -0.364112              0.072372             -0.257680   \n",
       "17468  -0.326090    -0.179147             -0.204635             -0.043918   \n",
       "\n",
       "       FuelConsumptionAverage  roadSurface_FullOfHolesCondition  \\\n",
       "0                    0.147743                               0.0   \n",
       "1                    0.085161                               0.0   \n",
       "2                    0.541703                               1.0   \n",
       "3                   -0.086966                               0.0   \n",
       "4                   -0.317556                               0.0   \n",
       "...                       ...                               ...   \n",
       "17464               -0.325618                               0.0   \n",
       "17465                0.324594                               1.0   \n",
       "17466               -0.367317                               0.0   \n",
       "17467               -0.434706                               1.0   \n",
       "17468                0.469472                               0.0   \n",
       "\n",
       "       roadSurface_SmoothCondition  roadSurface_UnevenCondition  \\\n",
       "0                              1.0                          0.0   \n",
       "1                              1.0                          0.0   \n",
       "2                              0.0                          0.0   \n",
       "3                              0.0                          1.0   \n",
       "4                              0.0                          1.0   \n",
       "...                            ...                          ...   \n",
       "17464                          1.0                          0.0   \n",
       "17465                          0.0                          0.0   \n",
       "17466                          0.0                          1.0   \n",
       "17467                          0.0                          0.0   \n",
       "17468                          1.0                          0.0   \n",
       "\n",
       "       traffic_HighCongestionCondition  traffic_LowCongestionCondition  \\\n",
       "0                                  1.0                             0.0   \n",
       "1                                  0.0                             1.0   \n",
       "2                                  1.0                             0.0   \n",
       "3                                  0.0                             1.0   \n",
       "4                                  0.0                             0.0   \n",
       "...                                ...                             ...   \n",
       "17464                              0.0                             1.0   \n",
       "17465                              1.0                             0.0   \n",
       "17466                              0.0                             0.0   \n",
       "17467                              0.0                             1.0   \n",
       "17468                              0.0                             0.0   \n",
       "\n",
       "       traffic_NormalCongestionCondition  \n",
       "0                                    0.0  \n",
       "1                                    0.0  \n",
       "2                                    0.0  \n",
       "3                                    0.0  \n",
       "4                                    1.0  \n",
       "...                                  ...  \n",
       "17464                                0.0  \n",
       "17465                                0.0  \n",
       "17466                                1.0  \n",
       "17467                                0.0  \n",
       "17468                                1.0  \n",
       "\n",
       "[17469 rows x 20 columns]"
      ]
     },
     "execution_count": 51,
     "metadata": {},
     "output_type": "execute_result"
    }
   ],
   "source": [
    "## Use the encoder.get_feature_names()\n",
    "X_train_df = pd.DataFrame(X_train_tf,columns=X_cols)\n",
    "X_test_df = pd.DataFrame(X_test_tf,columns=X_cols)\n",
    "X_train_df"
   ]
  },
  {
   "cell_type": "markdown",
   "metadata": {},
   "source": [
    "# Smote "
   ]
  },
  {
   "cell_type": "code",
   "execution_count": 52,
   "metadata": {
    "ExecuteTime": {
     "end_time": "2020-10-03T18:44:34.090001Z",
     "start_time": "2020-10-03T18:44:34.084772Z"
    }
   },
   "outputs": [],
   "source": [
    "from imblearn.over_sampling import SMOTE\n",
    "#smote = SMOTE()"
   ]
  },
  {
   "cell_type": "code",
   "execution_count": 53,
   "metadata": {
    "ExecuteTime": {
     "end_time": "2020-10-03T18:44:34.639432Z",
     "start_time": "2020-10-03T18:44:34.636222Z"
    }
   },
   "outputs": [],
   "source": [
    "#X_train_smote, y_train_smote = smote.fit_sample(X_train_df,y_train)"
   ]
  },
  {
   "cell_type": "code",
   "execution_count": 54,
   "metadata": {
    "ExecuteTime": {
     "end_time": "2020-10-03T18:44:34.840151Z",
     "start_time": "2020-10-03T18:44:34.831818Z"
    }
   },
   "outputs": [],
   "source": [
    "# from collections import Counter\n",
    "# print(\"Before SMOTE :\" , Counter(y_train))\n",
    "# print(\"After SMOTE :\" , Counter(y_train_smote))"
   ]
  },
  {
   "cell_type": "code",
   "execution_count": 55,
   "metadata": {
    "ExecuteTime": {
     "end_time": "2020-10-03T18:44:35.855165Z",
     "start_time": "2020-10-03T18:44:35.849947Z"
    }
   },
   "outputs": [],
   "source": [
    "from sklearn.linear_model import LogisticRegression\n",
    "from sklearn.model_selection import train_test_split,cross_val_score,GridSearchCV\n",
    "from sklearn.metrics import classification_report, confusion_matrix\n",
    "from sklearn.neighbors import KNeighborsClassifier\n",
    "from sklearn import metrics"
   ]
  },
  {
   "cell_type": "markdown",
   "metadata": {},
   "source": [
    "# KNN Model (Base Model)"
   ]
  },
  {
   "cell_type": "code",
   "execution_count": 84,
   "metadata": {
    "ExecuteTime": {
     "end_time": "2020-10-08T03:13:55.142564Z",
     "start_time": "2020-10-08T03:13:54.889967Z"
    }
   },
   "outputs": [],
   "source": [
    "#Create a function that runs the model of your choice, gives a classification\n",
    "    #report and plot a confusion matrix and roc curve\n",
    "\n",
    "def model_evaluation(model,X_test,y_test,classes=None,\n",
    "                           normalize='true',cmap='Purples',label=''):\n",
    "     \n",
    "    ## Run Model for Predictions\n",
    "    y_hat_test = model.predict(X_test)\n",
    "    \n",
    "    \n",
    "    ## Classification Report / Scores \n",
    "    table_header = \"[i] CLASSIFICATION REPORT\"\n",
    "    \n",
    "    ## Add Label if given\n",
    "    if len(label)>0:\n",
    "        table_header += f\" {label}\"\n",
    "        \n",
    "    \n",
    "    ## PRINT CLASSIFICATION REPORT\n",
    "    dashes = '---'*20\n",
    "    print(dashes,table_header,dashes,sep='\\n')\n",
    "\n",
    "    print(metrics.classification_report(y_test,y_hat_test,\n",
    "                                    target_names=classes))\n",
    "    \n",
    "    report = metrics.classification_report(y_test,y_hat_test,\n",
    "                                               target_names=classes,\n",
    "                                          output_dict=True)\n",
    "    print(dashes+\"\\n\\n\")\n",
    "    \n",
    "    \n",
    "\n",
    "    ## MAKE FIGURE\n",
    "    fig, axes = plt.subplots(figsize=(10,4),ncols=2)\n",
    "    \n",
    "    ## Plot Confusion Matrix \n",
    "    metrics.plot_confusion_matrix(model, X_test,y_test,\n",
    "                                  display_labels=classes,\n",
    "                                  normalize=normalize,\n",
    "                                 cmap=cmap,ax=axes[0])\n",
    "    axes[0].set(title='Confusion Matrix')\n",
    "    \n",
    "    ## Plot Roc Curve\n",
    "    roc_plot = metrics.plot_roc_curve(model, X_test, y_test,ax=axes[1])\n",
    "    axes[1].legend()\n",
    "    axes[1].plot([0,1],[0,1],ls=':')\n",
    "    axes[1].grid()\n",
    "    axes[1].set_title('Receiving Operator Characteristic (ROC) Curve') \n",
    "    fig.tight_layout()\n",
    "    plt.show()\n",
    "    \n",
    "    return report #fig,axes"
   ]
  },
  {
   "cell_type": "code",
   "execution_count": 56,
   "metadata": {
    "ExecuteTime": {
     "end_time": "2020-10-03T18:44:37.812305Z",
     "start_time": "2020-10-03T18:44:37.788001Z"
    }
   },
   "outputs": [
    {
     "data": {
      "text/html": [
       "<style>div.sk-top-container {color: black;background-color: white;}div.sk-toggleable {background-color: white;}label.sk-toggleable__label {cursor: pointer;display: block;width: 100%;margin-bottom: 0;padding: 0.2em 0.3em;box-sizing: border-box;text-align: center;}div.sk-toggleable__content {max-height: 0;max-width: 0;overflow: hidden;text-align: left;background-color: #f0f8ff;}div.sk-toggleable__content pre {margin: 0.2em;color: black;border-radius: 0.25em;background-color: #f0f8ff;}input.sk-toggleable__control:checked~div.sk-toggleable__content {max-height: 200px;max-width: 100%;overflow: auto;}div.sk-estimator input.sk-toggleable__control:checked~label.sk-toggleable__label {background-color: #d4ebff;}div.sk-label input.sk-toggleable__control:checked~label.sk-toggleable__label {background-color: #d4ebff;}input.sk-hidden--visually {border: 0;clip: rect(1px 1px 1px 1px);clip: rect(1px, 1px, 1px, 1px);height: 1px;margin: -1px;overflow: hidden;padding: 0;position: absolute;width: 1px;}div.sk-estimator {font-family: monospace;background-color: #f0f8ff;margin: 0.25em 0.25em;border: 1px dotted black;border-radius: 0.25em;box-sizing: border-box;}div.sk-estimator:hover {background-color: #d4ebff;}div.sk-parallel-item::after {content: \"\";width: 100%;border-bottom: 1px solid gray;flex-grow: 1;}div.sk-label:hover label.sk-toggleable__label {background-color: #d4ebff;}div.sk-serial::before {content: \"\";position: absolute;border-left: 1px solid gray;box-sizing: border-box;top: 2em;bottom: 0;left: 50%;}div.sk-serial {display: flex;flex-direction: column;align-items: center;background-color: white;}div.sk-item {z-index: 1;}div.sk-parallel {display: flex;align-items: stretch;justify-content: center;background-color: white;}div.sk-parallel-item {display: flex;flex-direction: column;position: relative;background-color: white;}div.sk-parallel-item:first-child::after {align-self: flex-end;width: 50%;}div.sk-parallel-item:last-child::after {align-self: flex-start;width: 50%;}div.sk-parallel-item:only-child::after {width: 0;}div.sk-dashed-wrapped {border: 1px dashed gray;margin: 0.2em;box-sizing: border-box;padding-bottom: 0.1em;background-color: white;position: relative;}div.sk-label label {font-family: monospace;font-weight: bold;background-color: white;display: inline-block;line-height: 1.2em;}div.sk-label-container {position: relative;z-index: 2;text-align: center;}div.sk-container {display: inline-block;position: relative;}</style><div class=\"sk-top-container\"><div class=\"sk-container\"><div class=\"sk-item\"><div class=\"sk-estimator sk-toggleable\"><input class=\"sk-toggleable__control sk-hidden--visually\" id=\"ab2ad694-af5e-4171-b357-bdf1b124e864\" type=\"checkbox\" checked><label class=\"sk-toggleable__label\" for=\"ab2ad694-af5e-4171-b357-bdf1b124e864\">KNeighborsClassifier</label><div class=\"sk-toggleable__content\"><pre>KNeighborsClassifier()</pre></div></div></div></div></div>"
      ],
      "text/plain": [
       "KNeighborsClassifier()"
      ]
     },
     "execution_count": 56,
     "metadata": {},
     "output_type": "execute_result"
    }
   ],
   "source": [
    "knn_pipe = KNeighborsClassifier()\n",
    "knn_pipe"
   ]
  },
  {
   "cell_type": "code",
   "execution_count": 93,
   "metadata": {
    "ExecuteTime": {
     "end_time": "2020-10-08T03:29:31.982048Z",
     "start_time": "2020-10-08T03:29:26.670762Z"
    }
   },
   "outputs": [
    {
     "name": "stdout",
     "output_type": "stream",
     "text": [
      "------------------------------------------------------------\n",
      "[i] CLASSIFICATION REPORT\n",
      "------------------------------------------------------------\n",
      "              precision    recall  f1-score   support\n",
      "\n",
      "           0       0.94      0.97      0.95      6621\n",
      "           1       0.71      0.51      0.59       867\n",
      "\n",
      "    accuracy                           0.92      7488\n",
      "   macro avg       0.82      0.74      0.77      7488\n",
      "weighted avg       0.91      0.92      0.91      7488\n",
      "\n",
      "------------------------------------------------------------\n",
      "\n",
      "\n"
     ]
    },
    {
     "data": {
      "image/png": "[encoded data removed]",
      "text/plain": [
       "<Figure size 720x288 with 3 Axes>"
      ]
     },
     "metadata": {
      "needs_background": "light"
     },
     "output_type": "display_data"
    },
    {
     "data": {
      "text/plain": [
       "{'0': {'precision': 0.9376820034944671,\n",
       "  'recall': 0.9726627397674067,\n",
       "  'f1-score': 0.9548521017125066,\n",
       "  'support': 6621},\n",
       " '1': {'precision': 0.7080645161290322,\n",
       "  'recall': 0.5063437139561707,\n",
       "  'f1-score': 0.5904505716207128,\n",
       "  'support': 867},\n",
       " 'accuracy': 0.9186698717948718,\n",
       " 'macro avg': {'precision': 0.8228732598117496,\n",
       "  'recall': 0.7395032268617887,\n",
       "  'f1-score': 0.7726513366666097,\n",
       "  'support': 7488},\n",
       " 'weighted avg': {'precision': 0.9110956838435814,\n",
       "  'recall': 0.9186698717948718,\n",
       "  'f1-score': 0.9126597771145385,\n",
       "  'support': 7488}}"
      ]
     },
     "execution_count": 93,
     "metadata": {},
     "output_type": "execute_result"
    }
   ],
   "source": [
    "model_evaluation(knn_pipe, X_test_df, y_test )"
   ]
  },
  {
   "cell_type": "markdown",
   "metadata": {},
   "source": [
    "### Improve Model"
   ]
  },
  {
   "cell_type": "code",
   "execution_count": 64,
   "metadata": {
    "ExecuteTime": {
     "end_time": "2020-10-03T18:57:27.148335Z",
     "start_time": "2020-10-03T18:57:27.128361Z"
    }
   },
   "outputs": [],
   "source": [
    "## Create Params grid for n_neighbors\n",
    "params = {'n_neighbors':list(range(3,27,2))}\n",
    "params\n",
    "## Create a GridSearch using F1 as scoring\n",
    "grid = GridSearchCV(knn_pipe,params,scoring='recall',n_jobs=-1,cv= 3)"
   ]
  },
  {
   "cell_type": "code",
   "execution_count": 65,
   "metadata": {
    "ExecuteTime": {
     "end_time": "2020-10-03T18:58:23.589079Z",
     "start_time": "2020-10-03T18:57:33.955584Z"
    },
    "scrolled": true
   },
   "outputs": [
    {
     "data": {
      "text/plain": [
       "{'n_neighbors': 3}"
      ]
     },
     "execution_count": 65,
     "metadata": {},
     "output_type": "execute_result"
    }
   ],
   "source": [
    "## Fit and print best params\n",
    "grid.fit(X_train_df, y_train)\n",
    "grid.best_params_"
   ]
  },
  {
   "cell_type": "code",
   "execution_count": 66,
   "metadata": {
    "ExecuteTime": {
     "end_time": "2020-10-03T19:00:11.061623Z",
     "start_time": "2020-10-03T19:00:11.031152Z"
    }
   },
   "outputs": [],
   "source": [
    "best_knn = grid.best_estimator_"
   ]
  },
  {
   "cell_type": "code",
   "execution_count": 67,
   "metadata": {
    "ExecuteTime": {
     "end_time": "2020-10-03T19:01:15.315636Z",
     "start_time": "2020-10-03T19:01:15.190087Z"
    }
   },
   "outputs": [
    {
     "data": {
      "text/html": [
       "<style>div.sk-top-container {color: black;background-color: white;}div.sk-toggleable {background-color: white;}label.sk-toggleable__label {cursor: pointer;display: block;width: 100%;margin-bottom: 0;padding: 0.2em 0.3em;box-sizing: border-box;text-align: center;}div.sk-toggleable__content {max-height: 0;max-width: 0;overflow: hidden;text-align: left;background-color: #f0f8ff;}div.sk-toggleable__content pre {margin: 0.2em;color: black;border-radius: 0.25em;background-color: #f0f8ff;}input.sk-toggleable__control:checked~div.sk-toggleable__content {max-height: 200px;max-width: 100%;overflow: auto;}div.sk-estimator input.sk-toggleable__control:checked~label.sk-toggleable__label {background-color: #d4ebff;}div.sk-label input.sk-toggleable__control:checked~label.sk-toggleable__label {background-color: #d4ebff;}input.sk-hidden--visually {border: 0;clip: rect(1px 1px 1px 1px);clip: rect(1px, 1px, 1px, 1px);height: 1px;margin: -1px;overflow: hidden;padding: 0;position: absolute;width: 1px;}div.sk-estimator {font-family: monospace;background-color: #f0f8ff;margin: 0.25em 0.25em;border: 1px dotted black;border-radius: 0.25em;box-sizing: border-box;}div.sk-estimator:hover {background-color: #d4ebff;}div.sk-parallel-item::after {content: \"\";width: 100%;border-bottom: 1px solid gray;flex-grow: 1;}div.sk-label:hover label.sk-toggleable__label {background-color: #d4ebff;}div.sk-serial::before {content: \"\";position: absolute;border-left: 1px solid gray;box-sizing: border-box;top: 2em;bottom: 0;left: 50%;}div.sk-serial {display: flex;flex-direction: column;align-items: center;background-color: white;}div.sk-item {z-index: 1;}div.sk-parallel {display: flex;align-items: stretch;justify-content: center;background-color: white;}div.sk-parallel-item {display: flex;flex-direction: column;position: relative;background-color: white;}div.sk-parallel-item:first-child::after {align-self: flex-end;width: 50%;}div.sk-parallel-item:last-child::after {align-self: flex-start;width: 50%;}div.sk-parallel-item:only-child::after {width: 0;}div.sk-dashed-wrapped {border: 1px dashed gray;margin: 0.2em;box-sizing: border-box;padding-bottom: 0.1em;background-color: white;position: relative;}div.sk-label label {font-family: monospace;font-weight: bold;background-color: white;display: inline-block;line-height: 1.2em;}div.sk-label-container {position: relative;z-index: 2;text-align: center;}div.sk-container {display: inline-block;position: relative;}</style><div class=\"sk-top-container\"><div class=\"sk-container\"><div class=\"sk-item\"><div class=\"sk-estimator sk-toggleable\"><input class=\"sk-toggleable__control sk-hidden--visually\" id=\"87a7f9d7-4b6a-4414-a8c8-142368b5874d\" type=\"checkbox\" checked><label class=\"sk-toggleable__label\" for=\"87a7f9d7-4b6a-4414-a8c8-142368b5874d\">KNeighborsClassifier</label><div class=\"sk-toggleable__content\"><pre>KNeighborsClassifier(n_neighbors=3)</pre></div></div></div></div></div>"
      ],
      "text/plain": [
       "KNeighborsClassifier(n_neighbors=3)"
      ]
     },
     "execution_count": 67,
     "metadata": {},
     "output_type": "execute_result"
    }
   ],
   "source": [
    "best_knn.fit(X_train_df,y_train)"
   ]
  },
  {
   "cell_type": "code",
   "execution_count": 92,
   "metadata": {
    "ExecuteTime": {
     "end_time": "2020-10-08T03:29:01.170469Z",
     "start_time": "2020-10-08T03:28:56.539928Z"
    }
   },
   "outputs": [
    {
     "name": "stdout",
     "output_type": "stream",
     "text": [
      "------------------------------------------------------------\n",
      "[i] CLASSIFICATION REPORT\n",
      "------------------------------------------------------------\n",
      "              precision    recall  f1-score   support\n",
      "\n",
      "           0       0.95      0.97      0.96      6621\n",
      "           1       0.73      0.60      0.66       867\n",
      "\n",
      "    accuracy                           0.93      7488\n",
      "   macro avg       0.84      0.78      0.81      7488\n",
      "weighted avg       0.92      0.93      0.92      7488\n",
      "\n",
      "------------------------------------------------------------\n",
      "\n",
      "\n"
     ]
    },
    {
     "data": {
      "image/png": "[encoded data removed]",
      "text/plain": [
       "<Figure size 720x288 with 3 Axes>"
      ]
     },
     "metadata": {
      "needs_background": "light"
     },
     "output_type": "display_data"
    },
    {
     "data": {
      "text/plain": [
       "{'0': {'precision': 0.9486346863468634,\n",
       "  'recall': 0.9706992901374415,\n",
       "  'f1-score': 0.9595401612421618,\n",
       "  'support': 6621},\n",
       " '1': {'precision': 0.7279102384291725,\n",
       "  'recall': 0.5986159169550173,\n",
       "  'f1-score': 0.6569620253164556,\n",
       "  'support': 867},\n",
       " 'accuracy': 0.9276175213675214,\n",
       " 'macro avg': {'precision': 0.838272462388018,\n",
       "  'recall': 0.7846576035462294,\n",
       "  'f1-score': 0.8082510932793088,\n",
       "  'support': 7488},\n",
       " 'weighted avg': {'precision': 0.9230780495487013,\n",
       "  'recall': 0.9276175213675214,\n",
       "  'f1-score': 0.9245060741898665,\n",
       "  'support': 7488}}"
      ]
     },
     "execution_count": 92,
     "metadata": {},
     "output_type": "execute_result"
    }
   ],
   "source": [
    "model_evaluation(best_knn, X_test_df,y_test)"
   ]
  },
  {
   "cell_type": "markdown",
   "metadata": {},
   "source": [
    "# Random Forests Classifier"
   ]
  },
  {
   "cell_type": "code",
   "execution_count": 71,
   "metadata": {
    "ExecuteTime": {
     "end_time": "2020-10-03T19:19:39.008789Z",
     "start_time": "2020-10-03T19:19:38.992632Z"
    }
   },
   "outputs": [],
   "source": [
    "from sklearn.ensemble import RandomForestClassifier"
   ]
  },
  {
   "cell_type": "code",
   "execution_count": 89,
   "metadata": {
    "ExecuteTime": {
     "end_time": "2020-10-08T03:28:25.009107Z",
     "start_time": "2020-10-08T03:28:21.898089Z"
    }
   },
   "outputs": [
    {
     "data": {
      "text/html": [
       "<style>div.sk-top-container {color: black;background-color: white;}div.sk-toggleable {background-color: white;}label.sk-toggleable__label {cursor: pointer;display: block;width: 100%;margin-bottom: 0;padding: 0.2em 0.3em;box-sizing: border-box;text-align: center;}div.sk-toggleable__content {max-height: 0;max-width: 0;overflow: hidden;text-align: left;background-color: #f0f8ff;}div.sk-toggleable__content pre {margin: 0.2em;color: black;border-radius: 0.25em;background-color: #f0f8ff;}input.sk-toggleable__control:checked~div.sk-toggleable__content {max-height: 200px;max-width: 100%;overflow: auto;}div.sk-estimator input.sk-toggleable__control:checked~label.sk-toggleable__label {background-color: #d4ebff;}div.sk-label input.sk-toggleable__control:checked~label.sk-toggleable__label {background-color: #d4ebff;}input.sk-hidden--visually {border: 0;clip: rect(1px 1px 1px 1px);clip: rect(1px, 1px, 1px, 1px);height: 1px;margin: -1px;overflow: hidden;padding: 0;position: absolute;width: 1px;}div.sk-estimator {font-family: monospace;background-color: #f0f8ff;margin: 0.25em 0.25em;border: 1px dotted black;border-radius: 0.25em;box-sizing: border-box;}div.sk-estimator:hover {background-color: #d4ebff;}div.sk-parallel-item::after {content: \"\";width: 100%;border-bottom: 1px solid gray;flex-grow: 1;}div.sk-label:hover label.sk-toggleable__label {background-color: #d4ebff;}div.sk-serial::before {content: \"\";position: absolute;border-left: 1px solid gray;box-sizing: border-box;top: 2em;bottom: 0;left: 50%;}div.sk-serial {display: flex;flex-direction: column;align-items: center;background-color: white;}div.sk-item {z-index: 1;}div.sk-parallel {display: flex;align-items: stretch;justify-content: center;background-color: white;}div.sk-parallel-item {display: flex;flex-direction: column;position: relative;background-color: white;}div.sk-parallel-item:first-child::after {align-self: flex-end;width: 50%;}div.sk-parallel-item:last-child::after {align-self: flex-start;width: 50%;}div.sk-parallel-item:only-child::after {width: 0;}div.sk-dashed-wrapped {border: 1px dashed gray;margin: 0.2em;box-sizing: border-box;padding-bottom: 0.1em;background-color: white;position: relative;}div.sk-label label {font-family: monospace;font-weight: bold;background-color: white;display: inline-block;line-height: 1.2em;}div.sk-label-container {position: relative;z-index: 2;text-align: center;}div.sk-container {display: inline-block;position: relative;}</style><div class=\"sk-top-container\"><div class=\"sk-container\"><div class=\"sk-item\"><div class=\"sk-estimator sk-toggleable\"><input class=\"sk-toggleable__control sk-hidden--visually\" id=\"d6857a1a-a308-47c9-8438-6f764c77359c\" type=\"checkbox\" checked><label class=\"sk-toggleable__label\" for=\"d6857a1a-a308-47c9-8438-6f764c77359c\">RandomForestClassifier</label><div class=\"sk-toggleable__content\"><pre>RandomForestClassifier(class_weight='balanced')</pre></div></div></div></div></div>"
      ],
      "text/plain": [
       "RandomForestClassifier(class_weight='balanced')"
      ]
     },
     "execution_count": 89,
     "metadata": {},
     "output_type": "execute_result"
    }
   ],
   "source": [
    "rfc=RandomForestClassifier(class_weight = 'balanced')\n",
    "rfc.fit(X_train_df, y_train)"
   ]
  },
  {
   "cell_type": "code",
   "execution_count": 91,
   "metadata": {
    "ExecuteTime": {
     "end_time": "2020-10-08T03:28:39.934620Z",
     "start_time": "2020-10-08T03:28:39.245480Z"
    },
    "scrolled": true
   },
   "outputs": [
    {
     "name": "stdout",
     "output_type": "stream",
     "text": [
      "------------------------------------------------------------\n",
      "[i] CLASSIFICATION REPORT\n",
      "------------------------------------------------------------\n",
      "              precision    recall  f1-score   support\n",
      "\n",
      "           0       0.94      0.99      0.97      6621\n",
      "           1       0.91      0.52      0.66       867\n",
      "\n",
      "    accuracy                           0.94      7488\n",
      "   macro avg       0.93      0.75      0.81      7488\n",
      "weighted avg       0.94      0.94      0.93      7488\n",
      "\n",
      "------------------------------------------------------------\n",
      "\n",
      "\n"
     ]
    },
    {
     "data": {
      "image/png": "[encoded data removed]",
      "text/plain": [
       "<Figure size 720x288 with 3 Axes>"
      ]
     },
     "metadata": {
      "needs_background": "light"
     },
     "output_type": "display_data"
    },
    {
     "data": {
      "text/plain": [
       "{'0': {'precision': 0.9399742746891525,\n",
       "  'recall': 0.9933544781755022,\n",
       "  'f1-score': 0.9659274489646057,\n",
       "  'support': 6621},\n",
       " '1': {'precision': 0.9103869653767821,\n",
       "  'recall': 0.5155709342560554,\n",
       "  'f1-score': 0.658321060382916,\n",
       "  'support': 867},\n",
       " 'accuracy': 0.938034188034188,\n",
       " 'macro avg': {'precision': 0.9251806200329673,\n",
       "  'recall': 0.7544627062157787,\n",
       "  'f1-score': 0.8121242546737608,\n",
       "  'support': 7488},\n",
       " 'weighted avg': {'precision': 0.9365485004939301,\n",
       "  'recall': 0.938034188034188,\n",
       "  'f1-score': 0.9303111643892418,\n",
       "  'support': 7488}}"
      ]
     },
     "execution_count": 91,
     "metadata": {},
     "output_type": "execute_result"
    }
   ],
   "source": [
    "model_evaluation(rfc, X_test_df, y_test)"
   ]
  },
  {
   "cell_type": "markdown",
   "metadata": {},
   "source": [
    "Looks like this imbalnced data set is going to be a problem with these models so i will use SMOTE to balance the data set"
   ]
  },
  {
   "cell_type": "markdown",
   "metadata": {},
   "source": [
    "# SMOTE"
   ]
  },
  {
   "cell_type": "code",
   "execution_count": 98,
   "metadata": {
    "ExecuteTime": {
     "end_time": "2020-10-08T04:00:17.976848Z",
     "start_time": "2020-10-08T04:00:17.972389Z"
    }
   },
   "outputs": [],
   "source": [
    "from imblearn.over_sampling import SMOTENC\n",
    "\n"
   ]
  },
  {
   "cell_type": "code",
   "execution_count": 105,
   "metadata": {
    "ExecuteTime": {
     "end_time": "2020-10-08T04:14:16.838949Z",
     "start_time": "2020-10-08T04:14:15.285526Z"
    }
   },
   "outputs": [],
   "source": [
    "sm = SMOTENC(categorical_features=[15,16,17,18,19], random_state=123, sampling_strategy=.6)\n",
    "X_trainres, y_trainres = sm.fit_resample(X_train_df, y_train)"
   ]
  },
  {
   "cell_type": "code",
   "execution_count": 106,
   "metadata": {
    "ExecuteTime": {
     "end_time": "2020-10-08T04:17:29.486504Z",
     "start_time": "2020-10-08T04:17:29.416604Z"
    }
   },
   "outputs": [
    {
     "name": "stdout",
     "output_type": "stream",
     "text": [
      "Before SMOTE : Counter({0: 15468, 1: 2001})\n",
      "After SMOTE : Counter({0: 15468, 1: 9280})\n"
     ]
    }
   ],
   "source": [
    "from collections import Counter\n",
    "print(\"Before SMOTE :\" , Counter(y_train))\n",
    "print(\"After SMOTE :\" , Counter(y_trainres))"
   ]
  },
  {
   "cell_type": "code",
   "execution_count": 134,
   "metadata": {
    "ExecuteTime": {
     "end_time": "2020-10-08T04:59:08.464146Z",
     "start_time": "2020-10-08T04:59:03.386234Z"
    }
   },
   "outputs": [
    {
     "data": {
      "text/html": [
       "<style>div.sk-top-container {color: black;background-color: white;}div.sk-toggleable {background-color: white;}label.sk-toggleable__label {cursor: pointer;display: block;width: 100%;margin-bottom: 0;padding: 0.2em 0.3em;box-sizing: border-box;text-align: center;}div.sk-toggleable__content {max-height: 0;max-width: 0;overflow: hidden;text-align: left;background-color: #f0f8ff;}div.sk-toggleable__content pre {margin: 0.2em;color: black;border-radius: 0.25em;background-color: #f0f8ff;}input.sk-toggleable__control:checked~div.sk-toggleable__content {max-height: 200px;max-width: 100%;overflow: auto;}div.sk-estimator input.sk-toggleable__control:checked~label.sk-toggleable__label {background-color: #d4ebff;}div.sk-label input.sk-toggleable__control:checked~label.sk-toggleable__label {background-color: #d4ebff;}input.sk-hidden--visually {border: 0;clip: rect(1px 1px 1px 1px);clip: rect(1px, 1px, 1px, 1px);height: 1px;margin: -1px;overflow: hidden;padding: 0;position: absolute;width: 1px;}div.sk-estimator {font-family: monospace;background-color: #f0f8ff;margin: 0.25em 0.25em;border: 1px dotted black;border-radius: 0.25em;box-sizing: border-box;}div.sk-estimator:hover {background-color: #d4ebff;}div.sk-parallel-item::after {content: \"\";width: 100%;border-bottom: 1px solid gray;flex-grow: 1;}div.sk-label:hover label.sk-toggleable__label {background-color: #d4ebff;}div.sk-serial::before {content: \"\";position: absolute;border-left: 1px solid gray;box-sizing: border-box;top: 2em;bottom: 0;left: 50%;}div.sk-serial {display: flex;flex-direction: column;align-items: center;background-color: white;}div.sk-item {z-index: 1;}div.sk-parallel {display: flex;align-items: stretch;justify-content: center;background-color: white;}div.sk-parallel-item {display: flex;flex-direction: column;position: relative;background-color: white;}div.sk-parallel-item:first-child::after {align-self: flex-end;width: 50%;}div.sk-parallel-item:last-child::after {align-self: flex-start;width: 50%;}div.sk-parallel-item:only-child::after {width: 0;}div.sk-dashed-wrapped {border: 1px dashed gray;margin: 0.2em;box-sizing: border-box;padding-bottom: 0.1em;background-color: white;position: relative;}div.sk-label label {font-family: monospace;font-weight: bold;background-color: white;display: inline-block;line-height: 1.2em;}div.sk-label-container {position: relative;z-index: 2;text-align: center;}div.sk-container {display: inline-block;position: relative;}</style><div class=\"sk-top-container\"><div class=\"sk-container\"><div class=\"sk-item\"><div class=\"sk-estimator sk-toggleable\"><input class=\"sk-toggleable__control sk-hidden--visually\" id=\"a55fe22f-80cf-451f-b0b9-5f49c861b9f9\" type=\"checkbox\" checked><label class=\"sk-toggleable__label\" for=\"a55fe22f-80cf-451f-b0b9-5f49c861b9f9\">RandomForestClassifier</label><div class=\"sk-toggleable__content\"><pre>RandomForestClassifier()</pre></div></div></div></div></div>"
      ],
      "text/plain": [
       "RandomForestClassifier()"
      ]
     },
     "execution_count": 134,
     "metadata": {},
     "output_type": "execute_result"
    }
   ],
   "source": [
    "rfc_smote=RandomForestClassifier()\n",
    "rfc_smote.fit(X_trainres, y_trainres)"
   ]
  },
  {
   "cell_type": "code",
   "execution_count": 109,
   "metadata": {
    "ExecuteTime": {
     "end_time": "2020-10-08T04:20:05.313045Z",
     "start_time": "2020-10-08T04:20:04.434040Z"
    }
   },
   "outputs": [
    {
     "name": "stdout",
     "output_type": "stream",
     "text": [
      "------------------------------------------------------------\n",
      "[i] CLASSIFICATION REPORT\n",
      "------------------------------------------------------------\n",
      "              precision    recall  f1-score   support\n",
      "\n",
      "           0       0.97      0.97      0.97      6621\n",
      "           1       0.80      0.77      0.78       867\n",
      "\n",
      "    accuracy                           0.95      7488\n",
      "   macro avg       0.88      0.87      0.88      7488\n",
      "weighted avg       0.95      0.95      0.95      7488\n",
      "\n",
      "------------------------------------------------------------\n",
      "\n",
      "\n"
     ]
    },
    {
     "data": {
      "image/png": "[encoded data removed]",
      "text/plain": [
       "<Figure size 720x288 with 3 Axes>"
      ]
     },
     "metadata": {
      "needs_background": "light"
     },
     "output_type": "display_data"
    },
    {
     "data": {
      "text/plain": [
       "{'0': {'precision': 0.9702121257710246,\n",
       "  'recall': 0.9740220510496904,\n",
       "  'f1-score': 0.9721133554416642,\n",
       "  'support': 6621},\n",
       " '1': {'precision': 0.7954815695600476,\n",
       "  'recall': 0.7716262975778547,\n",
       "  'f1-score': 0.7833723653395784,\n",
       "  'support': 867},\n",
       " 'accuracy': 0.9505876068376068,\n",
       " 'macro avg': {'precision': 0.882846847665536,\n",
       "  'recall': 0.8728241743137726,\n",
       "  'f1-score': 0.8777428603906213,\n",
       "  'support': 7488},\n",
       " 'weighted avg': {'precision': 0.9499809035174298,\n",
       "  'recall': 0.9505876068376068,\n",
       "  'f1-score': 0.9502599315075686,\n",
       "  'support': 7488}}"
      ]
     },
     "execution_count": 109,
     "metadata": {},
     "output_type": "execute_result"
    }
   ],
   "source": [
    "model_evaluation(rfc_smote, X_test_df, y_test)"
   ]
  },
  {
   "cell_type": "code",
   "execution_count": 127,
   "metadata": {
    "ExecuteTime": {
     "end_time": "2020-10-08T04:53:15.265560Z",
     "start_time": "2020-10-08T04:53:15.257937Z"
    }
   },
   "outputs": [
    {
     "data": {
      "text/plain": [
       "[0.1, 0.2, 0.30000000000000004, 0.4, 0.5, 0.6, 0.7000000000000001, 0.8, 0.9]"
      ]
     },
     "execution_count": 127,
     "metadata": {},
     "output_type": "execute_result"
    }
   ],
   "source": [
    "list(np.arange(.1,1,.1))"
   ]
  },
  {
   "cell_type": "code",
   "execution_count": 135,
   "metadata": {
    "ExecuteTime": {
     "end_time": "2020-10-08T04:59:15.625293Z",
     "start_time": "2020-10-08T04:59:15.620511Z"
    }
   },
   "outputs": [],
   "source": [
    "\n",
    "\n",
    "## Create Params grid for sampling_strategy\n",
    "params = {'sampling_strategy':list(np.arange(.1,1,.1))}\n",
    "params\n",
    "## Create a GridSearch using F1 as scoring\n",
    "grid = GridSearchCV(rfc_smote,params,scoring='recall',n_jobs=-1,cv= 3)"
   ]
  },
  {
   "cell_type": "code",
   "execution_count": 137,
   "metadata": {
    "ExecuteTime": {
     "end_time": "2020-10-09T12:28:12.275027Z",
     "start_time": "2020-10-09T12:28:05.217743Z"
    }
   },
   "outputs": [
    {
     "ename": "ValueError",
     "evalue": "Invalid parameter sampling_strategy for estimator RandomForestClassifier(). Check the list of available parameters with `estimator.get_params().keys()`.",
     "output_type": "error",
     "traceback": [
      "\u001b[0;31m---------------------------------------------------------------------------\u001b[0m",
      "\u001b[0;31m_RemoteTraceback\u001b[0m                          Traceback (most recent call last)",
      "\u001b[0;31m_RemoteTraceback\u001b[0m: \n\"\"\"\nTraceback (most recent call last):\n  File \"/Users/phillipojo24/opt/anaconda3/lib/python3.7/site-packages/joblib/externals/loky/process_executor.py\", line 418, in _process_worker\n    r = call_item()\n  File \"/Users/phillipojo24/opt/anaconda3/lib/python3.7/site-packages/joblib/externals/loky/process_executor.py\", line 272, in __call__\n    return self.fn(*self.args, **self.kwargs)\n  File \"/Users/phillipojo24/opt/anaconda3/lib/python3.7/site-packages/joblib/_parallel_backends.py\", line 608, in __call__\n    return self.func(*args, **kwargs)\n  File \"/Users/phillipojo24/opt/anaconda3/lib/python3.7/site-packages/joblib/parallel.py\", line 256, in __call__\n    for func, args, kwargs in self.items]\n  File \"/Users/phillipojo24/opt/anaconda3/lib/python3.7/site-packages/joblib/parallel.py\", line 256, in <listcomp>\n    for func, args, kwargs in self.items]\n  File \"/Users/phillipojo24/opt/anaconda3/lib/python3.7/site-packages/sklearn/model_selection/_validation.py\", line 520, in _fit_and_score\n    estimator = estimator.set_params(**cloned_parameters)\n  File \"/Users/phillipojo24/opt/anaconda3/lib/python3.7/site-packages/sklearn/base.py\", line 252, in set_params\n    (key, self))\nValueError: Invalid parameter sampling_strategy for estimator RandomForestClassifier(). Check the list of available parameters with `estimator.get_params().keys()`.\n\"\"\"",
      "\nThe above exception was the direct cause of the following exception:\n",
      "\u001b[0;31mValueError\u001b[0m                                Traceback (most recent call last)",
      "\u001b[0;32m<ipython-input-137-7f8b4974f79b>\u001b[0m in \u001b[0;36m<module>\u001b[0;34m\u001b[0m\n\u001b[1;32m      1\u001b[0m \u001b[0;31m## Fit and print best params\u001b[0m\u001b[0;34m\u001b[0m\u001b[0;34m\u001b[0m\u001b[0;34m\u001b[0m\u001b[0m\n\u001b[0;32m----> 2\u001b[0;31m \u001b[0mgrid\u001b[0m\u001b[0;34m.\u001b[0m\u001b[0mfit\u001b[0m\u001b[0;34m(\u001b[0m\u001b[0mX_trainres\u001b[0m\u001b[0;34m,\u001b[0m \u001b[0my_trainres\u001b[0m\u001b[0;34m)\u001b[0m\u001b[0;34m\u001b[0m\u001b[0;34m\u001b[0m\u001b[0m\n\u001b[0m\u001b[1;32m      3\u001b[0m \u001b[0mgrid\u001b[0m\u001b[0;34m.\u001b[0m\u001b[0mbest_index_\u001b[0m\u001b[0;34m\u001b[0m\u001b[0;34m\u001b[0m\u001b[0m\n",
      "\u001b[0;32m~/opt/anaconda3/lib/python3.7/site-packages/sklearn/utils/validation.py\u001b[0m in \u001b[0;36minner_f\u001b[0;34m(*args, **kwargs)\u001b[0m\n\u001b[1;32m     70\u001b[0m                           FutureWarning)\n\u001b[1;32m     71\u001b[0m         \u001b[0mkwargs\u001b[0m\u001b[0;34m.\u001b[0m\u001b[0mupdate\u001b[0m\u001b[0;34m(\u001b[0m\u001b[0;34m{\u001b[0m\u001b[0mk\u001b[0m\u001b[0;34m:\u001b[0m \u001b[0marg\u001b[0m \u001b[0;32mfor\u001b[0m \u001b[0mk\u001b[0m\u001b[0;34m,\u001b[0m \u001b[0marg\u001b[0m \u001b[0;32min\u001b[0m \u001b[0mzip\u001b[0m\u001b[0;34m(\u001b[0m\u001b[0msig\u001b[0m\u001b[0;34m.\u001b[0m\u001b[0mparameters\u001b[0m\u001b[0;34m,\u001b[0m \u001b[0margs\u001b[0m\u001b[0;34m)\u001b[0m\u001b[0;34m}\u001b[0m\u001b[0;34m)\u001b[0m\u001b[0;34m\u001b[0m\u001b[0;34m\u001b[0m\u001b[0m\n\u001b[0;32m---> 72\u001b[0;31m         \u001b[0;32mreturn\u001b[0m \u001b[0mf\u001b[0m\u001b[0;34m(\u001b[0m\u001b[0;34m**\u001b[0m\u001b[0mkwargs\u001b[0m\u001b[0;34m)\u001b[0m\u001b[0;34m\u001b[0m\u001b[0;34m\u001b[0m\u001b[0m\n\u001b[0m\u001b[1;32m     73\u001b[0m     \u001b[0;32mreturn\u001b[0m \u001b[0minner_f\u001b[0m\u001b[0;34m\u001b[0m\u001b[0;34m\u001b[0m\u001b[0m\n\u001b[1;32m     74\u001b[0m \u001b[0;34m\u001b[0m\u001b[0m\n",
      "\u001b[0;32m~/opt/anaconda3/lib/python3.7/site-packages/sklearn/model_selection/_search.py\u001b[0m in \u001b[0;36mfit\u001b[0;34m(self, X, y, groups, **fit_params)\u001b[0m\n\u001b[1;32m    734\u001b[0m                 \u001b[0;32mreturn\u001b[0m \u001b[0mresults\u001b[0m\u001b[0;34m\u001b[0m\u001b[0;34m\u001b[0m\u001b[0m\n\u001b[1;32m    735\u001b[0m \u001b[0;34m\u001b[0m\u001b[0m\n\u001b[0;32m--> 736\u001b[0;31m             \u001b[0mself\u001b[0m\u001b[0;34m.\u001b[0m\u001b[0m_run_search\u001b[0m\u001b[0;34m(\u001b[0m\u001b[0mevaluate_candidates\u001b[0m\u001b[0;34m)\u001b[0m\u001b[0;34m\u001b[0m\u001b[0;34m\u001b[0m\u001b[0m\n\u001b[0m\u001b[1;32m    737\u001b[0m \u001b[0;34m\u001b[0m\u001b[0m\n\u001b[1;32m    738\u001b[0m         \u001b[0;31m# For multi-metric evaluation, store the best_index_, best_params_ and\u001b[0m\u001b[0;34m\u001b[0m\u001b[0;34m\u001b[0m\u001b[0;34m\u001b[0m\u001b[0m\n",
      "\u001b[0;32m~/opt/anaconda3/lib/python3.7/site-packages/sklearn/model_selection/_search.py\u001b[0m in \u001b[0;36m_run_search\u001b[0;34m(self, evaluate_candidates)\u001b[0m\n\u001b[1;32m   1186\u001b[0m     \u001b[0;32mdef\u001b[0m \u001b[0m_run_search\u001b[0m\u001b[0;34m(\u001b[0m\u001b[0mself\u001b[0m\u001b[0;34m,\u001b[0m \u001b[0mevaluate_candidates\u001b[0m\u001b[0;34m)\u001b[0m\u001b[0;34m:\u001b[0m\u001b[0;34m\u001b[0m\u001b[0;34m\u001b[0m\u001b[0m\n\u001b[1;32m   1187\u001b[0m         \u001b[0;34m\"\"\"Search all candidates in param_grid\"\"\"\u001b[0m\u001b[0;34m\u001b[0m\u001b[0;34m\u001b[0m\u001b[0m\n\u001b[0;32m-> 1188\u001b[0;31m         \u001b[0mevaluate_candidates\u001b[0m\u001b[0;34m(\u001b[0m\u001b[0mParameterGrid\u001b[0m\u001b[0;34m(\u001b[0m\u001b[0mself\u001b[0m\u001b[0;34m.\u001b[0m\u001b[0mparam_grid\u001b[0m\u001b[0;34m)\u001b[0m\u001b[0;34m)\u001b[0m\u001b[0;34m\u001b[0m\u001b[0;34m\u001b[0m\u001b[0m\n\u001b[0m\u001b[1;32m   1189\u001b[0m \u001b[0;34m\u001b[0m\u001b[0m\n\u001b[1;32m   1190\u001b[0m \u001b[0;34m\u001b[0m\u001b[0m\n",
      "\u001b[0;32m~/opt/anaconda3/lib/python3.7/site-packages/sklearn/model_selection/_search.py\u001b[0m in \u001b[0;36mevaluate_candidates\u001b[0;34m(candidate_params)\u001b[0m\n\u001b[1;32m    713\u001b[0m                                \u001b[0;32mfor\u001b[0m \u001b[0mparameters\u001b[0m\u001b[0;34m,\u001b[0m \u001b[0;34m(\u001b[0m\u001b[0mtrain\u001b[0m\u001b[0;34m,\u001b[0m \u001b[0mtest\u001b[0m\u001b[0;34m)\u001b[0m\u001b[0;34m\u001b[0m\u001b[0;34m\u001b[0m\u001b[0m\n\u001b[1;32m    714\u001b[0m                                in product(candidate_params,\n\u001b[0;32m--> 715\u001b[0;31m                                           cv.split(X, y, groups)))\n\u001b[0m\u001b[1;32m    716\u001b[0m \u001b[0;34m\u001b[0m\u001b[0m\n\u001b[1;32m    717\u001b[0m                 \u001b[0;32mif\u001b[0m \u001b[0mlen\u001b[0m\u001b[0;34m(\u001b[0m\u001b[0mout\u001b[0m\u001b[0;34m)\u001b[0m \u001b[0;34m<\u001b[0m \u001b[0;36m1\u001b[0m\u001b[0;34m:\u001b[0m\u001b[0;34m\u001b[0m\u001b[0;34m\u001b[0m\u001b[0m\n",
      "\u001b[0;32m~/opt/anaconda3/lib/python3.7/site-packages/joblib/parallel.py\u001b[0m in \u001b[0;36m__call__\u001b[0;34m(self, iterable)\u001b[0m\n\u001b[1;32m   1015\u001b[0m \u001b[0;34m\u001b[0m\u001b[0m\n\u001b[1;32m   1016\u001b[0m             \u001b[0;32mwith\u001b[0m \u001b[0mself\u001b[0m\u001b[0;34m.\u001b[0m\u001b[0m_backend\u001b[0m\u001b[0;34m.\u001b[0m\u001b[0mretrieval_context\u001b[0m\u001b[0;34m(\u001b[0m\u001b[0;34m)\u001b[0m\u001b[0;34m:\u001b[0m\u001b[0;34m\u001b[0m\u001b[0;34m\u001b[0m\u001b[0m\n\u001b[0;32m-> 1017\u001b[0;31m                 \u001b[0mself\u001b[0m\u001b[0;34m.\u001b[0m\u001b[0mretrieve\u001b[0m\u001b[0;34m(\u001b[0m\u001b[0;34m)\u001b[0m\u001b[0;34m\u001b[0m\u001b[0;34m\u001b[0m\u001b[0m\n\u001b[0m\u001b[1;32m   1018\u001b[0m             \u001b[0;31m# Make sure that we get a last message telling us we are done\u001b[0m\u001b[0;34m\u001b[0m\u001b[0;34m\u001b[0m\u001b[0;34m\u001b[0m\u001b[0m\n\u001b[1;32m   1019\u001b[0m             \u001b[0melapsed_time\u001b[0m \u001b[0;34m=\u001b[0m \u001b[0mtime\u001b[0m\u001b[0;34m.\u001b[0m\u001b[0mtime\u001b[0m\u001b[0;34m(\u001b[0m\u001b[0;34m)\u001b[0m \u001b[0;34m-\u001b[0m \u001b[0mself\u001b[0m\u001b[0;34m.\u001b[0m\u001b[0m_start_time\u001b[0m\u001b[0;34m\u001b[0m\u001b[0;34m\u001b[0m\u001b[0m\n",
      "\u001b[0;32m~/opt/anaconda3/lib/python3.7/site-packages/joblib/parallel.py\u001b[0m in \u001b[0;36mretrieve\u001b[0;34m(self)\u001b[0m\n\u001b[1;32m    907\u001b[0m             \u001b[0;32mtry\u001b[0m\u001b[0;34m:\u001b[0m\u001b[0;34m\u001b[0m\u001b[0;34m\u001b[0m\u001b[0m\n\u001b[1;32m    908\u001b[0m                 \u001b[0;32mif\u001b[0m \u001b[0mgetattr\u001b[0m\u001b[0;34m(\u001b[0m\u001b[0mself\u001b[0m\u001b[0;34m.\u001b[0m\u001b[0m_backend\u001b[0m\u001b[0;34m,\u001b[0m \u001b[0;34m'supports_timeout'\u001b[0m\u001b[0;34m,\u001b[0m \u001b[0;32mFalse\u001b[0m\u001b[0;34m)\u001b[0m\u001b[0;34m:\u001b[0m\u001b[0;34m\u001b[0m\u001b[0;34m\u001b[0m\u001b[0m\n\u001b[0;32m--> 909\u001b[0;31m                     \u001b[0mself\u001b[0m\u001b[0;34m.\u001b[0m\u001b[0m_output\u001b[0m\u001b[0;34m.\u001b[0m\u001b[0mextend\u001b[0m\u001b[0;34m(\u001b[0m\u001b[0mjob\u001b[0m\u001b[0;34m.\u001b[0m\u001b[0mget\u001b[0m\u001b[0;34m(\u001b[0m\u001b[0mtimeout\u001b[0m\u001b[0;34m=\u001b[0m\u001b[0mself\u001b[0m\u001b[0;34m.\u001b[0m\u001b[0mtimeout\u001b[0m\u001b[0;34m)\u001b[0m\u001b[0;34m)\u001b[0m\u001b[0;34m\u001b[0m\u001b[0;34m\u001b[0m\u001b[0m\n\u001b[0m\u001b[1;32m    910\u001b[0m                 \u001b[0;32melse\u001b[0m\u001b[0;34m:\u001b[0m\u001b[0;34m\u001b[0m\u001b[0;34m\u001b[0m\u001b[0m\n\u001b[1;32m    911\u001b[0m                     \u001b[0mself\u001b[0m\u001b[0;34m.\u001b[0m\u001b[0m_output\u001b[0m\u001b[0;34m.\u001b[0m\u001b[0mextend\u001b[0m\u001b[0;34m(\u001b[0m\u001b[0mjob\u001b[0m\u001b[0;34m.\u001b[0m\u001b[0mget\u001b[0m\u001b[0;34m(\u001b[0m\u001b[0;34m)\u001b[0m\u001b[0;34m)\u001b[0m\u001b[0;34m\u001b[0m\u001b[0;34m\u001b[0m\u001b[0m\n",
      "\u001b[0;32m~/opt/anaconda3/lib/python3.7/site-packages/joblib/_parallel_backends.py\u001b[0m in \u001b[0;36mwrap_future_result\u001b[0;34m(future, timeout)\u001b[0m\n\u001b[1;32m    560\u001b[0m         AsyncResults.get from multiprocessing.\"\"\"\n\u001b[1;32m    561\u001b[0m         \u001b[0;32mtry\u001b[0m\u001b[0;34m:\u001b[0m\u001b[0;34m\u001b[0m\u001b[0;34m\u001b[0m\u001b[0m\n\u001b[0;32m--> 562\u001b[0;31m             \u001b[0;32mreturn\u001b[0m \u001b[0mfuture\u001b[0m\u001b[0;34m.\u001b[0m\u001b[0mresult\u001b[0m\u001b[0;34m(\u001b[0m\u001b[0mtimeout\u001b[0m\u001b[0;34m=\u001b[0m\u001b[0mtimeout\u001b[0m\u001b[0;34m)\u001b[0m\u001b[0;34m\u001b[0m\u001b[0;34m\u001b[0m\u001b[0m\n\u001b[0m\u001b[1;32m    563\u001b[0m         \u001b[0;32mexcept\u001b[0m \u001b[0mLokyTimeoutError\u001b[0m\u001b[0;34m:\u001b[0m\u001b[0;34m\u001b[0m\u001b[0;34m\u001b[0m\u001b[0m\n\u001b[1;32m    564\u001b[0m             \u001b[0;32mraise\u001b[0m \u001b[0mTimeoutError\u001b[0m\u001b[0;34m(\u001b[0m\u001b[0;34m)\u001b[0m\u001b[0;34m\u001b[0m\u001b[0;34m\u001b[0m\u001b[0m\n",
      "\u001b[0;32m~/opt/anaconda3/lib/python3.7/concurrent/futures/_base.py\u001b[0m in \u001b[0;36mresult\u001b[0;34m(self, timeout)\u001b[0m\n\u001b[1;32m    433\u001b[0m                 \u001b[0;32mraise\u001b[0m \u001b[0mCancelledError\u001b[0m\u001b[0;34m(\u001b[0m\u001b[0;34m)\u001b[0m\u001b[0;34m\u001b[0m\u001b[0;34m\u001b[0m\u001b[0m\n\u001b[1;32m    434\u001b[0m             \u001b[0;32melif\u001b[0m \u001b[0mself\u001b[0m\u001b[0;34m.\u001b[0m\u001b[0m_state\u001b[0m \u001b[0;34m==\u001b[0m \u001b[0mFINISHED\u001b[0m\u001b[0;34m:\u001b[0m\u001b[0;34m\u001b[0m\u001b[0;34m\u001b[0m\u001b[0m\n\u001b[0;32m--> 435\u001b[0;31m                 \u001b[0;32mreturn\u001b[0m \u001b[0mself\u001b[0m\u001b[0;34m.\u001b[0m\u001b[0m__get_result\u001b[0m\u001b[0;34m(\u001b[0m\u001b[0;34m)\u001b[0m\u001b[0;34m\u001b[0m\u001b[0;34m\u001b[0m\u001b[0m\n\u001b[0m\u001b[1;32m    436\u001b[0m             \u001b[0;32melse\u001b[0m\u001b[0;34m:\u001b[0m\u001b[0;34m\u001b[0m\u001b[0;34m\u001b[0m\u001b[0m\n\u001b[1;32m    437\u001b[0m                 \u001b[0;32mraise\u001b[0m \u001b[0mTimeoutError\u001b[0m\u001b[0;34m(\u001b[0m\u001b[0;34m)\u001b[0m\u001b[0;34m\u001b[0m\u001b[0;34m\u001b[0m\u001b[0m\n",
      "\u001b[0;32m~/opt/anaconda3/lib/python3.7/concurrent/futures/_base.py\u001b[0m in \u001b[0;36m__get_result\u001b[0;34m(self)\u001b[0m\n\u001b[1;32m    382\u001b[0m     \u001b[0;32mdef\u001b[0m \u001b[0m__get_result\u001b[0m\u001b[0;34m(\u001b[0m\u001b[0mself\u001b[0m\u001b[0;34m)\u001b[0m\u001b[0;34m:\u001b[0m\u001b[0;34m\u001b[0m\u001b[0;34m\u001b[0m\u001b[0m\n\u001b[1;32m    383\u001b[0m         \u001b[0;32mif\u001b[0m \u001b[0mself\u001b[0m\u001b[0;34m.\u001b[0m\u001b[0m_exception\u001b[0m\u001b[0;34m:\u001b[0m\u001b[0;34m\u001b[0m\u001b[0;34m\u001b[0m\u001b[0m\n\u001b[0;32m--> 384\u001b[0;31m             \u001b[0;32mraise\u001b[0m \u001b[0mself\u001b[0m\u001b[0;34m.\u001b[0m\u001b[0m_exception\u001b[0m\u001b[0;34m\u001b[0m\u001b[0;34m\u001b[0m\u001b[0m\n\u001b[0m\u001b[1;32m    385\u001b[0m         \u001b[0;32melse\u001b[0m\u001b[0;34m:\u001b[0m\u001b[0;34m\u001b[0m\u001b[0;34m\u001b[0m\u001b[0m\n\u001b[1;32m    386\u001b[0m             \u001b[0;32mreturn\u001b[0m \u001b[0mself\u001b[0m\u001b[0;34m.\u001b[0m\u001b[0m_result\u001b[0m\u001b[0;34m\u001b[0m\u001b[0;34m\u001b[0m\u001b[0m\n",
      "\u001b[0;31mValueError\u001b[0m: Invalid parameter sampling_strategy for estimator RandomForestClassifier(). Check the list of available parameters with `estimator.get_params().keys()`."
     ]
    }
   ],
   "source": [
    "## Fit and print best params\n",
    "grid.fit(X_trainres, y_trainres)\n",
    "grid.best_index_"
   ]
  },
  {
   "cell_type": "code",
   "execution_count": 81,
   "metadata": {
    "ExecuteTime": {
     "end_time": "2020-10-03T19:28:02.870275Z",
     "start_time": "2020-10-03T19:28:02.836842Z"
    }
   },
   "outputs": [],
   "source": [
    "rfc_importance = pd.Series(rfc.feature_importances_, index = X_train_df.columns)"
   ]
  },
  {
   "cell_type": "code",
   "execution_count": 83,
   "metadata": {
    "ExecuteTime": {
     "end_time": "2020-10-03T19:29:11.490201Z",
     "start_time": "2020-10-03T19:29:10.972863Z"
    }
   },
   "outputs": [
    {
     "data": {
      "text/plain": [
       "<matplotlib.axes._subplots.AxesSubplot at 0x7fc79358f5d0>"
      ]
     },
     "execution_count": 83,
     "metadata": {},
     "output_type": "execute_result"
    },
    {
     "data": {
      "image/png": "[encoded data removed]",
      "text/plain": [
       "<Figure size 432x288 with 1 Axes>"
      ]
     },
     "metadata": {
      "needs_background": "light"
     },
     "output_type": "display_data"
    }
   ],
   "source": [
    "rfc_importance.sort_values().plot(kind ='barh')"
   ]
  },
  {
   "cell_type": "code",
   "execution_count": null,
   "metadata": {},
   "outputs": [],
   "source": []
  }
 ],
 "metadata": {
  "kernelspec": {
   "display_name": "Python 3.7.6 64-bit ('base': conda)",
   "language": "python",
   "name": "python37664bitbaseconda12de692f8155481782d2c480a5bd0dec"
  },
  "language_info": {
   "codemirror_mode": {
    "name": "ipython",
    "version": 3
   },
   "file_extension": ".py",
   "mimetype": "text/x-python",
   "name": "python",
   "nbconvert_exporter": "python",
   "pygments_lexer": "ipython3",
   "version": "3.7.6"
  },
  "toc": {
   "base_numbering": 1,
   "nav_menu": {},
   "number_sections": true,
   "sideBar": true,
   "skip_h1_title": false,
   "title_cell": "Table of Contents",
   "title_sidebar": "Contents",
   "toc_cell": false,
   "toc_position": {
    "height": "calc(100% - 180px)",
    "left": "10px",
    "top": "150px",
    "width": "252.796875px"
   },
   "toc_section_display": true,
   "toc_window_display": true
  }
 },
 "nbformat": 4,
 "nbformat_minor": 2
}
