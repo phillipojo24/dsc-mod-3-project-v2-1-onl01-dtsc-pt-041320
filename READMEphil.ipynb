{
 "cells": [
  {
   "cell_type": "markdown",
   "metadata": {},
   "source": [
    "# Driving Style Predictors"
   ]
  },
  {
   "cell_type": "markdown",
   "metadata": {},
   "source": [
    "Problem Statement"
   ]
  },
  {
   "cell_type": "markdown",
   "metadata": {},
   "source": [
    "### For this project I will be using the OSEMiN framework, wich stands for Obtain, Scrub, Explore, Model and Interpret. \n",
    "\n",
    "* Obtain: The dataset consists of car data belonging to 24,000 instanceses and was downloaded from the Kaggle Datasets Library.\n",
    "\n",
    "* Scrub: I will search for null values and outliers to replace them with more suitable values or delete them form the data set. I will also loo at multicollinearity issues amongst the features and find creative ways to deal with them.\n",
    "\n",
    "* Explore: Throughout the whole process, it is important to lookout for other important information that can be gathered from the data. I will carry out Exploratory Data Analysis and answer relevant questions about the current state of business.\n",
    "\n",
    "* Model: I will use single and ensemble binary classification models. The aim of the project is to select the best performing model and fine-tune its hyperparameters to achieve correct identification of revenue generating sessions.\n",
    "\n",
    "* Interpret: Interpret the results of the models to make recommendations that generate value."
   ]
  },
  {
   "cell_type": "markdown",
   "metadata": {},
   "source": [
    "### Numerical Features"
   ]
  },
  {
   "cell_type": "markdown",
   "metadata": {},
   "source": [
    "* altitude change, calculated over 10 seconds;\n",
    "\n",
    "* current speed value; average speed in the last 60 seconds;\n",
    "\n",
    "* speed variance in the last 60 seconds;\n",
    "\n",
    "* speed variation for every second of detection;\n",
    "\n",
    "* longitudinal acceleration, measured by the smartphone accelerometer and pre-processed with a low-pass filter;\n",
    "\n",
    "* engine load, expressed as a percentage;\n",
    "\n",
    "* engine coolant temperatures in celsius degree;\n",
    "\n",
    "* Manifold Air Pressure (MAP), a parameter the internal combustion engine uses to compute the optimal air/fuel ratio;\n",
    "\n",
    "* Revolutions Per Minute (RPM) of the engine;\n",
    "\n",
    "* Mass Air Flow (MAF) Rate measured in g/s, used by the engine to set fuel delivery and spark timing;\n",
    "\n",
    "* Intake Air Temperature (IAT) at the engine entrance;\n",
    "\n",
    "* vertical acceleration, measured by the smartphone accelerometer and pre-processed with a low-pass filter;\n",
    "\n",
    "* average fuel consumption, calculated as needed liters per 100 km."
   ]
  },
  {
   "cell_type": "markdown",
   "metadata": {},
   "source": [
    "Vertical location shows what feature it is depicting\n",
    "Color shows whether that feature was high or low for that row of the dataset\n",
    "Horizontal location shows whether the effect of that value caused a higher or lower prediction."
   ]
  },
  {
   "cell_type": "markdown",
   "metadata": {},
   "source": [
    "# Results"
   ]
  },
  {
   "cell_type": "markdown",
   "metadata": {},
   "source": [
    " <img src= \"https://raw.githubusercontent.com/phillipojo24/dsc-mod-2-project-v2-1-onl01-dtsc-pt-041320/master/Screen%20Shot%202020-08-21%20at%2010.31.50%20AM.png\">"
   ]
  },
  {
   "cell_type": "code",
   "execution_count": null,
   "metadata": {},
   "outputs": [],
   "source": []
  }
 ],
 "metadata": {
  "kernelspec": {
   "display_name": "Python 3.6.9 64-bit ('learn-env': conda)",
   "language": "python",
   "name": "python36964bitlearnenvconda20d18a491eb34b2d993dc02b8702d9af"
  },
  "language_info": {
   "codemirror_mode": {
    "name": "ipython",
    "version": 3
   },
   "file_extension": ".py",
   "mimetype": "text/x-python",
   "name": "python",
   "nbconvert_exporter": "python",
   "pygments_lexer": "ipython3",
   "version": "3.6.9"
  }
 },
 "nbformat": 4,
 "nbformat_minor": 4
}
